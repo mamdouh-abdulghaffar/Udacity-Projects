{
 "cells": [
  {
   "cell_type": "code",
   "execution_count": 1,
   "id": "902749c4",
   "metadata": {},
   "outputs": [],
   "source": [
    "# Importing Packages\n",
    "import numpy as np\n",
    "import pandas as pd\n",
    "import matplotlib.pyplot as plt\n",
    "import seaborn as sns\n",
    "sns.set()"
   ]
  },
  {
   "cell_type": "markdown",
   "id": "a28509d2",
   "metadata": {},
   "source": [
    "We will drop the columns that we don't use in our analysis"
   ]
  },
  {
   "cell_type": "code",
   "execution_count": 2,
   "id": "97edf706",
   "metadata": {},
   "outputs": [],
   "source": [
    "# Constants\n",
    "DATA_FILE = 'data/tmdb-movies.csv'\n",
    "DROP_COLUMNS = ['id', 'imdb_id', 'budget', 'revenue', 'homepage', 'production_companies', 'tagline', 'overview', 'release_date', 'keywords']"
   ]
  },
  {
   "cell_type": "code",
   "execution_count": 3,
   "id": "a959beed",
   "metadata": {},
   "outputs": [
    {
     "data": {
      "text/plain": [
       "(10866, 21)"
      ]
     },
     "execution_count": 3,
     "metadata": {},
     "output_type": "execute_result"
    }
   ],
   "source": [
    "# Load Data\n",
    "df = pd.read_csv(DATA_FILE)\n",
    "df.shape"
   ]
  },
  {
   "cell_type": "markdown",
   "id": "482ec831",
   "metadata": {},
   "source": [
    "## Functions"
   ]
  },
  {
   "cell_type": "code",
   "execution_count": 24,
   "id": "0804b19b",
   "metadata": {},
   "outputs": [],
   "source": [
    "# missing Data\n",
    "def per_missing(df):\n",
    "    \n",
    "    \"\"\" \n",
    "    Select the columns that have missing values and summition of the missing values \n",
    "    and the percent of the missing valus from all the data\n",
    "        \n",
    "    parameters:\n",
    "    * df: Data Frame\n",
    "    \n",
    "    Rerurns: missing table that contains the count of missing values and it's percentage\n",
    "    \n",
    "    \"\"\"\n",
    "    \n",
    "    missing_count = df.isna().sum().sort_values(ascending=False)\n",
    "    missing_percent = (100 * df.isna().sum().sort_values(ascending=False)) / len(df)\n",
    "    missing_count = pd.DataFrame(missing_count[missing_count>0])\n",
    "    missing_percent = pd.DataFrame(missing_percent[missing_percent>0])\n",
    "    missing_table = pd.concat([missing_count, missing_percent], axis=1)\n",
    "    missing_table.columns = ['missing_count', 'missing_percent']\n",
    "    \n",
    "    return missing_table\n",
    "\n",
    "# ------------------------------------------------------------------------------------------------------\n",
    "\n",
    "# fill zero with median\n",
    "def fill_by_median(pd_series):\n",
    "    \"\"\"\n",
    "    fill zeros with median of the column\n",
    "    \n",
    "    parameters:\n",
    "    * pd_series: The column\n",
    "        \n",
    "    \"\"\"\n",
    "    pd_series.replace(0, np.nan, inplace=True)\n",
    "    median = pd_series.median()\n",
    "    pd_series.fillna(median, inplace=True)\n",
    "\n",
    "# ------------------------------------------------------------------------------------------------------    \n",
    "    \n",
    "# Visualization\n",
    "def bar_plot(x, y, data):\n",
    "    \"\"\"\n",
    "    make a bae plot chart for the data without confidence interval\n",
    "    \n",
    "    parameters:\n",
    "    * x: the columns will be draw on the x axis\n",
    "    * y: the columns will be draw on the y axis    \n",
    "    \"\"\"\n",
    "    plt.figure(figsize = (8,4), dpi = 100)\n",
    "    sns.barplot(x = x, y = y, data=data, ci=None)\n",
    "    plt.show()"
   ]
  },
  {
   "cell_type": "markdown",
   "id": "45f4876d",
   "metadata": {},
   "source": [
    "# Assessing"
   ]
  },
  {
   "cell_type": "code",
   "execution_count": 5,
   "id": "d0cea66b",
   "metadata": {},
   "outputs": [
    {
     "data": {
      "text/html": [
       "<div>\n",
       "<style scoped>\n",
       "    .dataframe tbody tr th:only-of-type {\n",
       "        vertical-align: middle;\n",
       "    }\n",
       "\n",
       "    .dataframe tbody tr th {\n",
       "        vertical-align: top;\n",
       "    }\n",
       "\n",
       "    .dataframe thead th {\n",
       "        text-align: right;\n",
       "    }\n",
       "</style>\n",
       "<table border=\"1\" class=\"dataframe\">\n",
       "  <thead>\n",
       "    <tr style=\"text-align: right;\">\n",
       "      <th></th>\n",
       "      <th>id</th>\n",
       "      <th>imdb_id</th>\n",
       "      <th>popularity</th>\n",
       "      <th>budget</th>\n",
       "      <th>revenue</th>\n",
       "      <th>original_title</th>\n",
       "      <th>cast</th>\n",
       "      <th>homepage</th>\n",
       "      <th>director</th>\n",
       "      <th>tagline</th>\n",
       "      <th>...</th>\n",
       "      <th>overview</th>\n",
       "      <th>runtime</th>\n",
       "      <th>genres</th>\n",
       "      <th>production_companies</th>\n",
       "      <th>release_date</th>\n",
       "      <th>vote_count</th>\n",
       "      <th>vote_average</th>\n",
       "      <th>release_year</th>\n",
       "      <th>budget_adj</th>\n",
       "      <th>revenue_adj</th>\n",
       "    </tr>\n",
       "  </thead>\n",
       "  <tbody>\n",
       "    <tr>\n",
       "      <th>0</th>\n",
       "      <td>135397</td>\n",
       "      <td>tt0369610</td>\n",
       "      <td>32.985763</td>\n",
       "      <td>150000000</td>\n",
       "      <td>1513528810</td>\n",
       "      <td>Jurassic World</td>\n",
       "      <td>Chris Pratt|Bryce Dallas Howard|Irrfan Khan|Vi...</td>\n",
       "      <td>http://www.jurassicworld.com/</td>\n",
       "      <td>Colin Trevorrow</td>\n",
       "      <td>The park is open.</td>\n",
       "      <td>...</td>\n",
       "      <td>Twenty-two years after the events of Jurassic ...</td>\n",
       "      <td>124</td>\n",
       "      <td>Action|Adventure|Science Fiction|Thriller</td>\n",
       "      <td>Universal Studios|Amblin Entertainment|Legenda...</td>\n",
       "      <td>6/9/15</td>\n",
       "      <td>5562</td>\n",
       "      <td>6.5</td>\n",
       "      <td>2015</td>\n",
       "      <td>1.379999e+08</td>\n",
       "      <td>1.392446e+09</td>\n",
       "    </tr>\n",
       "    <tr>\n",
       "      <th>1</th>\n",
       "      <td>76341</td>\n",
       "      <td>tt1392190</td>\n",
       "      <td>28.419936</td>\n",
       "      <td>150000000</td>\n",
       "      <td>378436354</td>\n",
       "      <td>Mad Max: Fury Road</td>\n",
       "      <td>Tom Hardy|Charlize Theron|Hugh Keays-Byrne|Nic...</td>\n",
       "      <td>http://www.madmaxmovie.com/</td>\n",
       "      <td>George Miller</td>\n",
       "      <td>What a Lovely Day.</td>\n",
       "      <td>...</td>\n",
       "      <td>An apocalyptic story set in the furthest reach...</td>\n",
       "      <td>120</td>\n",
       "      <td>Action|Adventure|Science Fiction|Thriller</td>\n",
       "      <td>Village Roadshow Pictures|Kennedy Miller Produ...</td>\n",
       "      <td>5/13/15</td>\n",
       "      <td>6185</td>\n",
       "      <td>7.1</td>\n",
       "      <td>2015</td>\n",
       "      <td>1.379999e+08</td>\n",
       "      <td>3.481613e+08</td>\n",
       "    </tr>\n",
       "    <tr>\n",
       "      <th>2</th>\n",
       "      <td>262500</td>\n",
       "      <td>tt2908446</td>\n",
       "      <td>13.112507</td>\n",
       "      <td>110000000</td>\n",
       "      <td>295238201</td>\n",
       "      <td>Insurgent</td>\n",
       "      <td>Shailene Woodley|Theo James|Kate Winslet|Ansel...</td>\n",
       "      <td>http://www.thedivergentseries.movie/#insurgent</td>\n",
       "      <td>Robert Schwentke</td>\n",
       "      <td>One Choice Can Destroy You</td>\n",
       "      <td>...</td>\n",
       "      <td>Beatrice Prior must confront her inner demons ...</td>\n",
       "      <td>119</td>\n",
       "      <td>Adventure|Science Fiction|Thriller</td>\n",
       "      <td>Summit Entertainment|Mandeville Films|Red Wago...</td>\n",
       "      <td>3/18/15</td>\n",
       "      <td>2480</td>\n",
       "      <td>6.3</td>\n",
       "      <td>2015</td>\n",
       "      <td>1.012000e+08</td>\n",
       "      <td>2.716190e+08</td>\n",
       "    </tr>\n",
       "    <tr>\n",
       "      <th>3</th>\n",
       "      <td>140607</td>\n",
       "      <td>tt2488496</td>\n",
       "      <td>11.173104</td>\n",
       "      <td>200000000</td>\n",
       "      <td>2068178225</td>\n",
       "      <td>Star Wars: The Force Awakens</td>\n",
       "      <td>Harrison Ford|Mark Hamill|Carrie Fisher|Adam D...</td>\n",
       "      <td>http://www.starwars.com/films/star-wars-episod...</td>\n",
       "      <td>J.J. Abrams</td>\n",
       "      <td>Every generation has a story.</td>\n",
       "      <td>...</td>\n",
       "      <td>Thirty years after defeating the Galactic Empi...</td>\n",
       "      <td>136</td>\n",
       "      <td>Action|Adventure|Science Fiction|Fantasy</td>\n",
       "      <td>Lucasfilm|Truenorth Productions|Bad Robot</td>\n",
       "      <td>12/15/15</td>\n",
       "      <td>5292</td>\n",
       "      <td>7.5</td>\n",
       "      <td>2015</td>\n",
       "      <td>1.839999e+08</td>\n",
       "      <td>1.902723e+09</td>\n",
       "    </tr>\n",
       "    <tr>\n",
       "      <th>4</th>\n",
       "      <td>168259</td>\n",
       "      <td>tt2820852</td>\n",
       "      <td>9.335014</td>\n",
       "      <td>190000000</td>\n",
       "      <td>1506249360</td>\n",
       "      <td>Furious 7</td>\n",
       "      <td>Vin Diesel|Paul Walker|Jason Statham|Michelle ...</td>\n",
       "      <td>http://www.furious7.com/</td>\n",
       "      <td>James Wan</td>\n",
       "      <td>Vengeance Hits Home</td>\n",
       "      <td>...</td>\n",
       "      <td>Deckard Shaw seeks revenge against Dominic Tor...</td>\n",
       "      <td>137</td>\n",
       "      <td>Action|Crime|Thriller</td>\n",
       "      <td>Universal Pictures|Original Film|Media Rights ...</td>\n",
       "      <td>4/1/15</td>\n",
       "      <td>2947</td>\n",
       "      <td>7.3</td>\n",
       "      <td>2015</td>\n",
       "      <td>1.747999e+08</td>\n",
       "      <td>1.385749e+09</td>\n",
       "    </tr>\n",
       "  </tbody>\n",
       "</table>\n",
       "<p>5 rows × 21 columns</p>\n",
       "</div>"
      ],
      "text/plain": [
       "       id    imdb_id  popularity     budget     revenue  \\\n",
       "0  135397  tt0369610   32.985763  150000000  1513528810   \n",
       "1   76341  tt1392190   28.419936  150000000   378436354   \n",
       "2  262500  tt2908446   13.112507  110000000   295238201   \n",
       "3  140607  tt2488496   11.173104  200000000  2068178225   \n",
       "4  168259  tt2820852    9.335014  190000000  1506249360   \n",
       "\n",
       "                 original_title  \\\n",
       "0                Jurassic World   \n",
       "1            Mad Max: Fury Road   \n",
       "2                     Insurgent   \n",
       "3  Star Wars: The Force Awakens   \n",
       "4                     Furious 7   \n",
       "\n",
       "                                                cast  \\\n",
       "0  Chris Pratt|Bryce Dallas Howard|Irrfan Khan|Vi...   \n",
       "1  Tom Hardy|Charlize Theron|Hugh Keays-Byrne|Nic...   \n",
       "2  Shailene Woodley|Theo James|Kate Winslet|Ansel...   \n",
       "3  Harrison Ford|Mark Hamill|Carrie Fisher|Adam D...   \n",
       "4  Vin Diesel|Paul Walker|Jason Statham|Michelle ...   \n",
       "\n",
       "                                            homepage          director  \\\n",
       "0                      http://www.jurassicworld.com/   Colin Trevorrow   \n",
       "1                        http://www.madmaxmovie.com/     George Miller   \n",
       "2     http://www.thedivergentseries.movie/#insurgent  Robert Schwentke   \n",
       "3  http://www.starwars.com/films/star-wars-episod...       J.J. Abrams   \n",
       "4                           http://www.furious7.com/         James Wan   \n",
       "\n",
       "                         tagline  ...  \\\n",
       "0              The park is open.  ...   \n",
       "1             What a Lovely Day.  ...   \n",
       "2     One Choice Can Destroy You  ...   \n",
       "3  Every generation has a story.  ...   \n",
       "4            Vengeance Hits Home  ...   \n",
       "\n",
       "                                            overview runtime  \\\n",
       "0  Twenty-two years after the events of Jurassic ...     124   \n",
       "1  An apocalyptic story set in the furthest reach...     120   \n",
       "2  Beatrice Prior must confront her inner demons ...     119   \n",
       "3  Thirty years after defeating the Galactic Empi...     136   \n",
       "4  Deckard Shaw seeks revenge against Dominic Tor...     137   \n",
       "\n",
       "                                      genres  \\\n",
       "0  Action|Adventure|Science Fiction|Thriller   \n",
       "1  Action|Adventure|Science Fiction|Thriller   \n",
       "2         Adventure|Science Fiction|Thriller   \n",
       "3   Action|Adventure|Science Fiction|Fantasy   \n",
       "4                      Action|Crime|Thriller   \n",
       "\n",
       "                                production_companies release_date vote_count  \\\n",
       "0  Universal Studios|Amblin Entertainment|Legenda...       6/9/15       5562   \n",
       "1  Village Roadshow Pictures|Kennedy Miller Produ...      5/13/15       6185   \n",
       "2  Summit Entertainment|Mandeville Films|Red Wago...      3/18/15       2480   \n",
       "3          Lucasfilm|Truenorth Productions|Bad Robot     12/15/15       5292   \n",
       "4  Universal Pictures|Original Film|Media Rights ...       4/1/15       2947   \n",
       "\n",
       "   vote_average  release_year    budget_adj   revenue_adj  \n",
       "0           6.5          2015  1.379999e+08  1.392446e+09  \n",
       "1           7.1          2015  1.379999e+08  3.481613e+08  \n",
       "2           6.3          2015  1.012000e+08  2.716190e+08  \n",
       "3           7.5          2015  1.839999e+08  1.902723e+09  \n",
       "4           7.3          2015  1.747999e+08  1.385749e+09  \n",
       "\n",
       "[5 rows x 21 columns]"
      ]
     },
     "execution_count": 5,
     "metadata": {},
     "output_type": "execute_result"
    }
   ],
   "source": [
    "# take a look at the data\n",
    "df.head()"
   ]
  },
  {
   "cell_type": "code",
   "execution_count": 6,
   "id": "55d665bd",
   "metadata": {},
   "outputs": [
    {
     "name": "stdout",
     "output_type": "stream",
     "text": [
      "<class 'pandas.core.frame.DataFrame'>\n",
      "RangeIndex: 10866 entries, 0 to 10865\n",
      "Data columns (total 21 columns):\n",
      " #   Column                Non-Null Count  Dtype  \n",
      "---  ------                --------------  -----  \n",
      " 0   id                    10866 non-null  int64  \n",
      " 1   imdb_id               10856 non-null  object \n",
      " 2   popularity            10866 non-null  float64\n",
      " 3   budget                10866 non-null  int64  \n",
      " 4   revenue               10866 non-null  int64  \n",
      " 5   original_title        10866 non-null  object \n",
      " 6   cast                  10790 non-null  object \n",
      " 7   homepage              2936 non-null   object \n",
      " 8   director              10822 non-null  object \n",
      " 9   tagline               8042 non-null   object \n",
      " 10  keywords              9373 non-null   object \n",
      " 11  overview              10862 non-null  object \n",
      " 12  runtime               10866 non-null  int64  \n",
      " 13  genres                10843 non-null  object \n",
      " 14  production_companies  9836 non-null   object \n",
      " 15  release_date          10866 non-null  object \n",
      " 16  vote_count            10866 non-null  int64  \n",
      " 17  vote_average          10866 non-null  float64\n",
      " 18  release_year          10866 non-null  int64  \n",
      " 19  budget_adj            10866 non-null  float64\n",
      " 20  revenue_adj           10866 non-null  float64\n",
      "dtypes: float64(4), int64(6), object(11)\n",
      "memory usage: 1.7+ MB\n"
     ]
    }
   ],
   "source": [
    "# Information\n",
    "df.info()"
   ]
  },
  {
   "cell_type": "code",
   "execution_count": 7,
   "id": "083c1260",
   "metadata": {},
   "outputs": [
    {
     "data": {
      "text/html": [
       "<div>\n",
       "<style scoped>\n",
       "    .dataframe tbody tr th:only-of-type {\n",
       "        vertical-align: middle;\n",
       "    }\n",
       "\n",
       "    .dataframe tbody tr th {\n",
       "        vertical-align: top;\n",
       "    }\n",
       "\n",
       "    .dataframe thead th {\n",
       "        text-align: right;\n",
       "    }\n",
       "</style>\n",
       "<table border=\"1\" class=\"dataframe\">\n",
       "  <thead>\n",
       "    <tr style=\"text-align: right;\">\n",
       "      <th></th>\n",
       "      <th>mean</th>\n",
       "      <th>std</th>\n",
       "      <th>min</th>\n",
       "      <th>25%</th>\n",
       "      <th>50%</th>\n",
       "      <th>75%</th>\n",
       "      <th>max</th>\n",
       "    </tr>\n",
       "  </thead>\n",
       "  <tbody>\n",
       "    <tr>\n",
       "      <th>id</th>\n",
       "      <td>6.606418e+04</td>\n",
       "      <td>9.213014e+04</td>\n",
       "      <td>5.000000</td>\n",
       "      <td>10596.250000</td>\n",
       "      <td>20669.000000</td>\n",
       "      <td>7.561000e+04</td>\n",
       "      <td>4.178590e+05</td>\n",
       "    </tr>\n",
       "    <tr>\n",
       "      <th>popularity</th>\n",
       "      <td>6.464410e-01</td>\n",
       "      <td>1.000185e+00</td>\n",
       "      <td>0.000065</td>\n",
       "      <td>0.207583</td>\n",
       "      <td>0.383856</td>\n",
       "      <td>7.138170e-01</td>\n",
       "      <td>3.298576e+01</td>\n",
       "    </tr>\n",
       "    <tr>\n",
       "      <th>budget</th>\n",
       "      <td>1.462570e+07</td>\n",
       "      <td>3.091321e+07</td>\n",
       "      <td>0.000000</td>\n",
       "      <td>0.000000</td>\n",
       "      <td>0.000000</td>\n",
       "      <td>1.500000e+07</td>\n",
       "      <td>4.250000e+08</td>\n",
       "    </tr>\n",
       "    <tr>\n",
       "      <th>revenue</th>\n",
       "      <td>3.982332e+07</td>\n",
       "      <td>1.170035e+08</td>\n",
       "      <td>0.000000</td>\n",
       "      <td>0.000000</td>\n",
       "      <td>0.000000</td>\n",
       "      <td>2.400000e+07</td>\n",
       "      <td>2.781506e+09</td>\n",
       "    </tr>\n",
       "    <tr>\n",
       "      <th>runtime</th>\n",
       "      <td>1.020709e+02</td>\n",
       "      <td>3.138141e+01</td>\n",
       "      <td>0.000000</td>\n",
       "      <td>90.000000</td>\n",
       "      <td>99.000000</td>\n",
       "      <td>1.110000e+02</td>\n",
       "      <td>9.000000e+02</td>\n",
       "    </tr>\n",
       "    <tr>\n",
       "      <th>vote_count</th>\n",
       "      <td>2.173897e+02</td>\n",
       "      <td>5.756191e+02</td>\n",
       "      <td>10.000000</td>\n",
       "      <td>17.000000</td>\n",
       "      <td>38.000000</td>\n",
       "      <td>1.457500e+02</td>\n",
       "      <td>9.767000e+03</td>\n",
       "    </tr>\n",
       "    <tr>\n",
       "      <th>vote_average</th>\n",
       "      <td>5.974922e+00</td>\n",
       "      <td>9.351418e-01</td>\n",
       "      <td>1.500000</td>\n",
       "      <td>5.400000</td>\n",
       "      <td>6.000000</td>\n",
       "      <td>6.600000e+00</td>\n",
       "      <td>9.200000e+00</td>\n",
       "    </tr>\n",
       "    <tr>\n",
       "      <th>release_year</th>\n",
       "      <td>2.001323e+03</td>\n",
       "      <td>1.281294e+01</td>\n",
       "      <td>1960.000000</td>\n",
       "      <td>1995.000000</td>\n",
       "      <td>2006.000000</td>\n",
       "      <td>2.011000e+03</td>\n",
       "      <td>2.015000e+03</td>\n",
       "    </tr>\n",
       "    <tr>\n",
       "      <th>budget_adj</th>\n",
       "      <td>1.755104e+07</td>\n",
       "      <td>3.430616e+07</td>\n",
       "      <td>0.000000</td>\n",
       "      <td>0.000000</td>\n",
       "      <td>0.000000</td>\n",
       "      <td>2.085325e+07</td>\n",
       "      <td>4.250000e+08</td>\n",
       "    </tr>\n",
       "    <tr>\n",
       "      <th>revenue_adj</th>\n",
       "      <td>5.136436e+07</td>\n",
       "      <td>1.446325e+08</td>\n",
       "      <td>0.000000</td>\n",
       "      <td>0.000000</td>\n",
       "      <td>0.000000</td>\n",
       "      <td>3.369710e+07</td>\n",
       "      <td>2.827124e+09</td>\n",
       "    </tr>\n",
       "  </tbody>\n",
       "</table>\n",
       "</div>"
      ],
      "text/plain": [
       "                      mean           std          min           25%  \\\n",
       "id            6.606418e+04  9.213014e+04     5.000000  10596.250000   \n",
       "popularity    6.464410e-01  1.000185e+00     0.000065      0.207583   \n",
       "budget        1.462570e+07  3.091321e+07     0.000000      0.000000   \n",
       "revenue       3.982332e+07  1.170035e+08     0.000000      0.000000   \n",
       "runtime       1.020709e+02  3.138141e+01     0.000000     90.000000   \n",
       "vote_count    2.173897e+02  5.756191e+02    10.000000     17.000000   \n",
       "vote_average  5.974922e+00  9.351418e-01     1.500000      5.400000   \n",
       "release_year  2.001323e+03  1.281294e+01  1960.000000   1995.000000   \n",
       "budget_adj    1.755104e+07  3.430616e+07     0.000000      0.000000   \n",
       "revenue_adj   5.136436e+07  1.446325e+08     0.000000      0.000000   \n",
       "\n",
       "                       50%           75%           max  \n",
       "id            20669.000000  7.561000e+04  4.178590e+05  \n",
       "popularity        0.383856  7.138170e-01  3.298576e+01  \n",
       "budget            0.000000  1.500000e+07  4.250000e+08  \n",
       "revenue           0.000000  2.400000e+07  2.781506e+09  \n",
       "runtime          99.000000  1.110000e+02  9.000000e+02  \n",
       "vote_count       38.000000  1.457500e+02  9.767000e+03  \n",
       "vote_average      6.000000  6.600000e+00  9.200000e+00  \n",
       "release_year   2006.000000  2.011000e+03  2.015000e+03  \n",
       "budget_adj        0.000000  2.085325e+07  4.250000e+08  \n",
       "revenue_adj       0.000000  3.369710e+07  2.827124e+09  "
      ]
     },
     "execution_count": 7,
     "metadata": {},
     "output_type": "execute_result"
    }
   ],
   "source": [
    "# summary statistics for numeric columns\n",
    "df.describe().T.iloc[:,1:]"
   ]
  },
  {
   "cell_type": "code",
   "execution_count": 8,
   "id": "0c898ad0",
   "metadata": {},
   "outputs": [
    {
     "data": {
      "text/html": [
       "<div>\n",
       "<style scoped>\n",
       "    .dataframe tbody tr th:only-of-type {\n",
       "        vertical-align: middle;\n",
       "    }\n",
       "\n",
       "    .dataframe tbody tr th {\n",
       "        vertical-align: top;\n",
       "    }\n",
       "\n",
       "    .dataframe thead th {\n",
       "        text-align: right;\n",
       "    }\n",
       "</style>\n",
       "<table border=\"1\" class=\"dataframe\">\n",
       "  <thead>\n",
       "    <tr style=\"text-align: right;\">\n",
       "      <th></th>\n",
       "      <th>unique</th>\n",
       "      <th>top</th>\n",
       "      <th>freq</th>\n",
       "    </tr>\n",
       "  </thead>\n",
       "  <tbody>\n",
       "    <tr>\n",
       "      <th>imdb_id</th>\n",
       "      <td>10855</td>\n",
       "      <td>tt0411951</td>\n",
       "      <td>2</td>\n",
       "    </tr>\n",
       "    <tr>\n",
       "      <th>original_title</th>\n",
       "      <td>10571</td>\n",
       "      <td>Hamlet</td>\n",
       "      <td>4</td>\n",
       "    </tr>\n",
       "    <tr>\n",
       "      <th>cast</th>\n",
       "      <td>10719</td>\n",
       "      <td>Louis C.K.</td>\n",
       "      <td>6</td>\n",
       "    </tr>\n",
       "    <tr>\n",
       "      <th>homepage</th>\n",
       "      <td>2896</td>\n",
       "      <td>http://www.thehungergames.movie/</td>\n",
       "      <td>4</td>\n",
       "    </tr>\n",
       "    <tr>\n",
       "      <th>director</th>\n",
       "      <td>5067</td>\n",
       "      <td>Woody Allen</td>\n",
       "      <td>45</td>\n",
       "    </tr>\n",
       "    <tr>\n",
       "      <th>tagline</th>\n",
       "      <td>7997</td>\n",
       "      <td>Based on a true story.</td>\n",
       "      <td>5</td>\n",
       "    </tr>\n",
       "    <tr>\n",
       "      <th>keywords</th>\n",
       "      <td>8804</td>\n",
       "      <td>woman director</td>\n",
       "      <td>134</td>\n",
       "    </tr>\n",
       "    <tr>\n",
       "      <th>overview</th>\n",
       "      <td>10847</td>\n",
       "      <td>No overview found.</td>\n",
       "      <td>13</td>\n",
       "    </tr>\n",
       "    <tr>\n",
       "      <th>genres</th>\n",
       "      <td>2039</td>\n",
       "      <td>Comedy</td>\n",
       "      <td>712</td>\n",
       "    </tr>\n",
       "    <tr>\n",
       "      <th>production_companies</th>\n",
       "      <td>7445</td>\n",
       "      <td>Paramount Pictures</td>\n",
       "      <td>156</td>\n",
       "    </tr>\n",
       "    <tr>\n",
       "      <th>release_date</th>\n",
       "      <td>5909</td>\n",
       "      <td>1/1/09</td>\n",
       "      <td>28</td>\n",
       "    </tr>\n",
       "  </tbody>\n",
       "</table>\n",
       "</div>"
      ],
      "text/plain": [
       "                     unique                               top freq\n",
       "imdb_id               10855                         tt0411951    2\n",
       "original_title        10571                            Hamlet    4\n",
       "cast                  10719                        Louis C.K.    6\n",
       "homepage               2896  http://www.thehungergames.movie/    4\n",
       "director               5067                       Woody Allen   45\n",
       "tagline                7997            Based on a true story.    5\n",
       "keywords               8804                    woman director  134\n",
       "overview              10847                No overview found.   13\n",
       "genres                 2039                            Comedy  712\n",
       "production_companies   7445                Paramount Pictures  156\n",
       "release_date           5909                            1/1/09   28"
      ]
     },
     "execution_count": 8,
     "metadata": {},
     "output_type": "execute_result"
    }
   ],
   "source": [
    "# summary statistics for object columns\n",
    "df.describe(include=\"O\").T.iloc[:, 1:]"
   ]
  },
  {
   "cell_type": "code",
   "execution_count": 9,
   "id": "2c27c106",
   "metadata": {},
   "outputs": [
    {
     "data": {
      "text/plain": [
       "1"
      ]
     },
     "execution_count": 9,
     "metadata": {},
     "output_type": "execute_result"
    }
   ],
   "source": [
    "# duplicates \n",
    "sum(df.duplicated())"
   ]
  },
  {
   "cell_type": "markdown",
   "id": "eda4e356",
   "metadata": {},
   "source": [
    "### Missing Values"
   ]
  },
  {
   "cell_type": "code",
   "execution_count": 10,
   "id": "6943e141",
   "metadata": {},
   "outputs": [
    {
     "data": {
      "text/html": [
       "<div>\n",
       "<style scoped>\n",
       "    .dataframe tbody tr th:only-of-type {\n",
       "        vertical-align: middle;\n",
       "    }\n",
       "\n",
       "    .dataframe tbody tr th {\n",
       "        vertical-align: top;\n",
       "    }\n",
       "\n",
       "    .dataframe thead th {\n",
       "        text-align: right;\n",
       "    }\n",
       "</style>\n",
       "<table border=\"1\" class=\"dataframe\">\n",
       "  <thead>\n",
       "    <tr style=\"text-align: right;\">\n",
       "      <th></th>\n",
       "      <th>missing_count</th>\n",
       "      <th>missing_percent</th>\n",
       "    </tr>\n",
       "  </thead>\n",
       "  <tbody>\n",
       "    <tr>\n",
       "      <th>homepage</th>\n",
       "      <td>7930</td>\n",
       "      <td>72.979937</td>\n",
       "    </tr>\n",
       "    <tr>\n",
       "      <th>tagline</th>\n",
       "      <td>2824</td>\n",
       "      <td>25.989324</td>\n",
       "    </tr>\n",
       "    <tr>\n",
       "      <th>keywords</th>\n",
       "      <td>1493</td>\n",
       "      <td>13.740107</td>\n",
       "    </tr>\n",
       "    <tr>\n",
       "      <th>production_companies</th>\n",
       "      <td>1030</td>\n",
       "      <td>9.479109</td>\n",
       "    </tr>\n",
       "    <tr>\n",
       "      <th>cast</th>\n",
       "      <td>76</td>\n",
       "      <td>0.699429</td>\n",
       "    </tr>\n",
       "    <tr>\n",
       "      <th>director</th>\n",
       "      <td>44</td>\n",
       "      <td>0.404933</td>\n",
       "    </tr>\n",
       "    <tr>\n",
       "      <th>genres</th>\n",
       "      <td>23</td>\n",
       "      <td>0.211669</td>\n",
       "    </tr>\n",
       "    <tr>\n",
       "      <th>imdb_id</th>\n",
       "      <td>10</td>\n",
       "      <td>0.092030</td>\n",
       "    </tr>\n",
       "    <tr>\n",
       "      <th>overview</th>\n",
       "      <td>4</td>\n",
       "      <td>0.036812</td>\n",
       "    </tr>\n",
       "  </tbody>\n",
       "</table>\n",
       "</div>"
      ],
      "text/plain": [
       "                      missing_count  missing_percent\n",
       "homepage                       7930        72.979937\n",
       "tagline                        2824        25.989324\n",
       "keywords                       1493        13.740107\n",
       "production_companies           1030         9.479109\n",
       "cast                             76         0.699429\n",
       "director                         44         0.404933\n",
       "genres                           23         0.211669\n",
       "imdb_id                          10         0.092030\n",
       "overview                          4         0.036812"
      ]
     },
     "execution_count": 10,
     "metadata": {},
     "output_type": "execute_result"
    }
   ],
   "source": [
    "percent_nan = per_missing(df)\n",
    "percent_nan"
   ]
  },
  {
   "cell_type": "code",
   "execution_count": 11,
   "id": "e6d371f9",
   "metadata": {
    "scrolled": false
   },
   "outputs": [
    {
     "data": {
      "image/png": "[encoded data removed]",
      "text/plain": [
       "<Figure size 800x400 with 1 Axes>"
      ]
     },
     "metadata": {},
     "output_type": "display_data"
    }
   ],
   "source": [
    "# Visualization of the percent_nan\n",
    "plt.figure(figsize = (8,4), dpi = 100)\n",
    "sns.barplot(x = percent_nan.index, y = percent_nan.values[:,1], data=percent_nan)\n",
    "plt.xticks(rotation = 90)\n",
    "plt.show()"
   ]
  },
  {
   "cell_type": "markdown",
   "id": "a660d9c7",
   "metadata": {},
   "source": [
    "> There are columns that are not neccessary for us in the analysis ==> we will **drop** them!\n",
    ">\n",
    "> There are **misleading** in the columns **budget_adj and revenue_adj** is more than **50%** of the data = **zero**\n",
    ">\n",
    "> There are **duplicate values**\n",
    ">\n",
    "> There are **missing data**\n",
    ">\n",
    "> we will **create columns** that will help uss in the analysis"
   ]
  },
  {
   "cell_type": "markdown",
   "id": "1dee48d3",
   "metadata": {},
   "source": [
    "# Cleansing"
   ]
  },
  {
   "cell_type": "code",
   "execution_count": 12,
   "id": "89dd9385",
   "metadata": {},
   "outputs": [],
   "source": [
    "# fill with median\n",
    "fill_by_median(df['budget_adj'])\n",
    "fill_by_median(df['revenue_adj'])"
   ]
  },
  {
   "cell_type": "code",
   "execution_count": 13,
   "id": "75e851bd",
   "metadata": {},
   "outputs": [],
   "source": [
    "# drop duplicates\n",
    "df.drop_duplicates(inplace=True)"
   ]
  },
  {
   "cell_type": "code",
   "execution_count": 14,
   "id": "16678d80",
   "metadata": {},
   "outputs": [],
   "source": [
    "# Insert column about the decade\n",
    "BINS = [1960,1970,1980,1990,2000,2010,2015]\n",
    "LABELS =['60s','70s','80s','90s', '2000s', '2010s']\n",
    "\n",
    "decade = pd.cut(df['release_year'], bins = BINS, labels = LABELS)\n",
    "df.insert(2, 'decade', decade)"
   ]
  },
  {
   "cell_type": "code",
   "execution_count": 15,
   "id": "2cd1f212",
   "metadata": {},
   "outputs": [],
   "source": [
    "# Insert columns about the Profit\n",
    "profit =  df['revenue_adj'] - df['budget_adj']\n",
    "df.insert(3,'profit', profit)"
   ]
  },
  {
   "cell_type": "code",
   "execution_count": 16,
   "id": "161ace5e",
   "metadata": {},
   "outputs": [
    {
     "data": {
      "text/html": [
       "<div>\n",
       "<style scoped>\n",
       "    .dataframe tbody tr th:only-of-type {\n",
       "        vertical-align: middle;\n",
       "    }\n",
       "\n",
       "    .dataframe tbody tr th {\n",
       "        vertical-align: top;\n",
       "    }\n",
       "\n",
       "    .dataframe thead th {\n",
       "        text-align: right;\n",
       "    }\n",
       "</style>\n",
       "<table border=\"1\" class=\"dataframe\">\n",
       "  <thead>\n",
       "    <tr style=\"text-align: right;\">\n",
       "      <th></th>\n",
       "      <th>budget_adj</th>\n",
       "      <th>revenue_adj</th>\n",
       "    </tr>\n",
       "  </thead>\n",
       "  <tbody>\n",
       "    <tr>\n",
       "      <th>count</th>\n",
       "      <td>1.086500e+04</td>\n",
       "      <td>1.086500e+04</td>\n",
       "    </tr>\n",
       "    <tr>\n",
       "      <th>mean</th>\n",
       "      <td>2.946232e+07</td>\n",
       "      <td>7.569185e+07</td>\n",
       "    </tr>\n",
       "    <tr>\n",
       "      <th>std</th>\n",
       "      <td>2.979317e+07</td>\n",
       "      <td>1.374701e+08</td>\n",
       "    </tr>\n",
       "    <tr>\n",
       "      <th>min</th>\n",
       "      <td>9.210911e-01</td>\n",
       "      <td>2.370705e+00</td>\n",
       "    </tr>\n",
       "    <tr>\n",
       "      <th>25%</th>\n",
       "      <td>2.272271e+07</td>\n",
       "      <td>4.392749e+07</td>\n",
       "    </tr>\n",
       "    <tr>\n",
       "      <th>50%</th>\n",
       "      <td>2.272271e+07</td>\n",
       "      <td>4.392749e+07</td>\n",
       "    </tr>\n",
       "    <tr>\n",
       "      <th>75%</th>\n",
       "      <td>2.272271e+07</td>\n",
       "      <td>4.392749e+07</td>\n",
       "    </tr>\n",
       "    <tr>\n",
       "      <th>max</th>\n",
       "      <td>4.250000e+08</td>\n",
       "      <td>2.827124e+09</td>\n",
       "    </tr>\n",
       "  </tbody>\n",
       "</table>\n",
       "</div>"
      ],
      "text/plain": [
       "         budget_adj   revenue_adj\n",
       "count  1.086500e+04  1.086500e+04\n",
       "mean   2.946232e+07  7.569185e+07\n",
       "std    2.979317e+07  1.374701e+08\n",
       "min    9.210911e-01  2.370705e+00\n",
       "25%    2.272271e+07  4.392749e+07\n",
       "50%    2.272271e+07  4.392749e+07\n",
       "75%    2.272271e+07  4.392749e+07\n",
       "max    4.250000e+08  2.827124e+09"
      ]
     },
     "execution_count": 16,
     "metadata": {},
     "output_type": "execute_result"
    }
   ],
   "source": [
    "# fill zeros with median\n",
    "fill_by_median(df['revenue_adj'])\n",
    "fill_by_median(df['budget_adj'])\n",
    "df[['budget_adj', 'revenue_adj']].describe()"
   ]
  },
  {
   "cell_type": "code",
   "execution_count": 17,
   "id": "995a87ef",
   "metadata": {},
   "outputs": [],
   "source": [
    "# drop the columns\n",
    "df.drop(DROP_COLUMNS, axis=1, inplace=True)"
   ]
  },
  {
   "cell_type": "code",
   "execution_count": 18,
   "id": "97eacc5d",
   "metadata": {},
   "outputs": [],
   "source": [
    "# deleaing with missing data\n",
    "df.dropna(inplace=True)"
   ]
  },
  {
   "cell_type": "markdown",
   "id": "a1b4837c",
   "metadata": {},
   "source": [
    "# Exploratory Data Analysis (EDA)\n",
    "\n",
    "### Which genres are most popular from year to year?"
   ]
  },
  {
   "cell_type": "code",
   "execution_count": 19,
   "id": "01ff160d",
   "metadata": {},
   "outputs": [
    {
     "data": {
      "text/plain": [
       "release_year\n",
       "1961            Horror\n",
       "1962             Drama\n",
       "1963            Horror\n",
       "1964    Comedy|Romance\n",
       "1965             Drama\n",
       "Name: genres, dtype: object"
      ]
     },
     "execution_count": 19,
     "metadata": {},
     "output_type": "execute_result"
    }
   ],
   "source": [
    "year_gen = df.groupby('release_year')['genres'].agg(lambda x:x.value_counts().index[0])\n",
    "year_gen[:5]"
   ]
  },
  {
   "cell_type": "code",
   "execution_count": 20,
   "id": "796367e6",
   "metadata": {},
   "outputs": [
    {
     "data": {
      "image/png": "[encoded data removed]",
      "text/plain": [
       "<Figure size 864x360 with 1 Axes>"
      ]
     },
     "metadata": {},
     "output_type": "display_data"
    }
   ],
   "source": [
    "plt.figure(figsize=(12,5))\n",
    "year_gen.value_counts().plot(kind='bar', facecolor='orange', edgecolor='green')\n",
    "plt.title(\"The most popular geners from year to year\")\n",
    "plt.xlabel('geners');"
   ]
  },
  {
   "cell_type": "markdown",
   "id": "4e960414",
   "metadata": {},
   "source": [
    "> The most kind of geners is **Comedy** then **Drama** about the years"
   ]
  },
  {
   "cell_type": "markdown",
   "id": "4ebc1fd5",
   "metadata": {},
   "source": [
    "### The most profit decade by decade?"
   ]
  },
  {
   "cell_type": "code",
   "execution_count": 21,
   "id": "9c104a01",
   "metadata": {},
   "outputs": [
    {
     "data": {
      "image/png": "[encoded data removed]",
      "text/plain": [
       "<Figure size 800x400 with 1 Axes>"
      ]
     },
     "metadata": {},
     "output_type": "display_data"
    }
   ],
   "source": [
    "bar_plot('decade','profit', df)"
   ]
  },
  {
   "cell_type": "markdown",
   "id": "d11cdca7",
   "metadata": {},
   "source": [
    "> **70s** is the higest profit then **60s** about the decades"
   ]
  },
  {
   "cell_type": "markdown",
   "id": "97da7ce0",
   "metadata": {},
   "source": [
    "### The most budjet decade by decade?"
   ]
  },
  {
   "cell_type": "code",
   "execution_count": 22,
   "id": "a01ecefc",
   "metadata": {
    "scrolled": false
   },
   "outputs": [
    {
     "data": {
      "image/png": "[encoded data removed]",
      "text/plain": [
       "<Figure size 800x400 with 1 Axes>"
      ]
     },
     "metadata": {},
     "output_type": "display_data"
    }
   ],
   "source": [
    "bar_plot('decade','budget_adj', df)"
   ]
  },
  {
   "cell_type": "markdown",
   "id": "6c7be0a5",
   "metadata": {},
   "source": [
    "> **90s** is the highest budjet then **2000s** about the decades"
   ]
  },
  {
   "cell_type": "markdown",
   "id": "c28f8bfa",
   "metadata": {},
   "source": [
    "### The most revenue decade by decade?"
   ]
  },
  {
   "cell_type": "code",
   "execution_count": 23,
   "id": "c85f12a0",
   "metadata": {},
   "outputs": [
    {
     "data": {
      "image/png": "[encoded data removed]",
      "text/plain": [
       "<Figure size 800x400 with 1 Axes>"
      ]
     },
     "metadata": {},
     "output_type": "display_data"
    }
   ],
   "source": [
    "bar_plot('decade','revenue_adj', df)\n"
   ]
  },
  {
   "cell_type": "markdown",
   "id": "43ed3338",
   "metadata": {},
   "source": [
    "> **70s** is the highest revenue then **60s** about the decades"
   ]
  }
 ],
 "metadata": {
  "kernelspec": {
   "display_name": "Python 3 (ipykernel)",
   "language": "python",
   "name": "python3"
  },
  "language_info": {
   "codemirror_mode": {
    "name": "ipython",
    "version": 3
   },
   "file_extension": ".py",
   "mimetype": "text/x-python",
   "name": "python",
   "nbconvert_exporter": "python",
   "pygments_lexer": "ipython3",
   "version": "3.10.0"
  }
 },
 "nbformat": 4,
 "nbformat_minor": 5
}
