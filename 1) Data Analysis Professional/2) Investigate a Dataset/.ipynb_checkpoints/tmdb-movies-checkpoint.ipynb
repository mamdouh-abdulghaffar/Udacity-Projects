{
 "cells": [
  {
   "cell_type": "code",
   "execution_count": null,
   "id": "5af8217c",
   "metadata": {},
   "outputs": [],
   "source": [
    "# Importing Packages\n",
    "import numpy as np\n",
    "import pandas as pd\n",
    "import matplotlib.pyplot as plt\n",
    "import seaborn as sns"
   ]
  },
  {
   "cell_type": "code",
   "execution_count": null,
   "id": "c8d977e3",
   "metadata": {
    "scrolled": false
   },
   "outputs": [],
   "source": [
    "df = pd.read_csv('data/tmdb-movies.csv')\n",
    "df.shape"
   ]
  },
  {
   "cell_type": "markdown",
   "id": "e429e66b",
   "metadata": {},
   "source": [
    "## Explore the data"
   ]
  },
  {
   "cell_type": "code",
   "execution_count": null,
   "id": "3d532997",
   "metadata": {},
   "outputs": [],
   "source": [
    "map_years = {\n",
    "    \n",
    "}"
   ]
  },
  {
   "cell_type": "code",
   "execution_count": null,
   "id": "e4ef1f34",
   "metadata": {},
   "outputs": [],
   "source": []
  },
  {
   "cell_type": "code",
   "execution_count": null,
   "id": "5aa7e232",
   "metadata": {},
   "outputs": [],
   "source": [
    "# Display random film\n",
    "df.sample(1).iloc[0]"
   ]
  },
  {
   "cell_type": "code",
   "execution_count": null,
   "id": "053bc720",
   "metadata": {},
   "outputs": [],
   "source": [
    "df.describe().T\n",
    "\n",
    "# The budjet and revenue columns have 0 in min and first quartile and median , thats no sense"
   ]
  },
  {
   "cell_type": "code",
   "execution_count": null,
   "id": "657cde19",
   "metadata": {},
   "outputs": [],
   "source": [
    "# replace 0 with a mean number\n",
    "budget_mean  = df['budget_adj'].mean()\n",
    "revenue_mean = df['revenue_adj'].mean()\n",
    "\n",
    "df['budget_adj'].replace(0, budget_mean, inplace=True)\n",
    "df['revenue_adj'].replace(0, revenue_mean, inplace=True)"
   ]
  },
  {
   "cell_type": "code",
   "execution_count": null,
   "id": "eafff9fc",
   "metadata": {},
   "outputs": [],
   "source": [
    "df.describe().T"
   ]
  },
  {
   "cell_type": "code",
   "execution_count": null,
   "id": "4699e9a2",
   "metadata": {
    "scrolled": true
   },
   "outputs": [],
   "source": [
    "df.describe(include='O').T"
   ]
  },
  {
   "cell_type": "code",
   "execution_count": null,
   "id": "f83da10b",
   "metadata": {},
   "outputs": [],
   "source": [
    "# Drop duplicates\n",
    "sum(df.duplicated())"
   ]
  },
  {
   "cell_type": "code",
   "execution_count": null,
   "id": "e910bfb3",
   "metadata": {},
   "outputs": [],
   "source": [
    "df.drop_duplicates(inplace=True)"
   ]
  },
  {
   "cell_type": "code",
   "execution_count": null,
   "id": "aa7a2be0",
   "metadata": {
    "scrolled": false
   },
   "outputs": [],
   "source": [
    "df.info()"
   ]
  },
  {
   "cell_type": "code",
   "execution_count": null,
   "id": "fa3d51d6",
   "metadata": {},
   "outputs": [],
   "source": [
    "df.isna().sum()"
   ]
  },
  {
   "cell_type": "code",
   "execution_count": null,
   "id": "9d952346",
   "metadata": {},
   "outputs": [],
   "source": [
    "df.nunique()"
   ]
  },
  {
   "cell_type": "code",
   "execution_count": null,
   "id": "9a9fc2b0",
   "metadata": {},
   "outputs": [],
   "source": [
    "# Drop columns that we don't need in our Analysis\n",
    "## There are adj-columns \n",
    "drop_columns = ['id', 'imdb_id', 'budget', 'revenue', 'homepage', 'production_companies', 'tagline', 'overview', 'keywords', 'release_date']\n",
    "df.drop(drop_columns, axis=1, inplace=True)"
   ]
  },
  {
   "cell_type": "code",
   "execution_count": null,
   "id": "961f0042",
   "metadata": {
    "scrolled": true
   },
   "outputs": [],
   "source": [
    "# converting the data type\n",
    "df['release_year'] = df['release_year'].astype(int)"
   ]
  },
  {
   "cell_type": "code",
   "execution_count": null,
   "id": "4226a6f0",
   "metadata": {},
   "outputs": [],
   "source": [
    "df.info()"
   ]
  },
  {
   "cell_type": "code",
   "execution_count": null,
   "id": "16d18c66",
   "metadata": {},
   "outputs": [],
   "source": [
    "len(df) - len(df.dropna())"
   ]
  },
  {
   "cell_type": "code",
   "execution_count": null,
   "id": "61d4ed80",
   "metadata": {},
   "outputs": [],
   "source": [
    "# drop null valuse from the data frame\n",
    "df.dropna(inplace=True)"
   ]
  },
  {
   "cell_type": "code",
   "execution_count": null,
   "id": "9812e0ad",
   "metadata": {},
   "outputs": [],
   "source": [
    "df.info()"
   ]
  },
  {
   "cell_type": "code",
   "execution_count": null,
   "id": "5cac5399",
   "metadata": {},
   "outputs": [],
   "source": [
    "# Crete a profit column\n",
    "df['profit'] = df['revenue_adj'] - df['budget_adj']"
   ]
  },
  {
   "cell_type": "markdown",
   "id": "2de4341f",
   "metadata": {},
   "source": [
    "# Exploratory Data Analysis (EDA)"
   ]
  },
  {
   "cell_type": "markdown",
   "id": "8754a48a",
   "metadata": {},
   "source": [
    "### Which genres are most popular from year to year?"
   ]
  },
  {
   "cell_type": "code",
   "execution_count": null,
   "id": "4ec77cea",
   "metadata": {},
   "outputs": [],
   "source": [
    "# make a release year column as an index for \n",
    "df.set_index('release_year', inplace=True)\n",
    "df.sort_index(ascending=False, inplace=True)"
   ]
  },
  {
   "cell_type": "code",
   "execution_count": null,
   "id": "de726fbd",
   "metadata": {},
   "outputs": [],
   "source": [
    "df.groupby('release_year')['vote_count'].max()"
   ]
  },
  {
   "cell_type": "code",
   "execution_count": null,
   "id": "d243003d",
   "metadata": {},
   "outputs": [],
   "source": [
    "fig, ax = plt.subplots()\n",
    "\n",
    "ax.plot(df.index, df['vote_count']);"
   ]
  },
  {
   "cell_type": "code",
   "execution_count": null,
   "id": "3be8196c",
   "metadata": {},
   "outputs": [],
   "source": [
    "def split_values(data_series, delimiter = '|'):\n",
    "    \"\"\"\n",
    "    split multiple value in a single string\n",
    "    to a list of single strings each representing a single value\n",
    "    \n",
    "    parameters: \n",
    "    * data_series (pd.Series): String series with answers\n",
    "    * delimiter (string): another decimal integer\n",
    "                          Defaults to ';'\n",
    "    Returns : (pd.Series): if column contains\n",
    "    \"\"\"\n",
    "    \n",
    "    # sub functions\n",
    "    def is_splittable(pd_series, delimiter):\n",
    "        \"\"\" Check if results multiple should be splitted - Returns boolean \"\"\"\n",
    "        \n",
    "        return pd_series.str.contains(delimiter)\n",
    "    \n",
    "    def split_value(pd_series, delimiter):\n",
    "        \"\"\" Function to split a single value \"\"\"\n",
    "        \n",
    "        return pd_series.str.split(delimiter)\n",
    "    \n",
    "    # --------------------\n",
    "    \n",
    "    # Check if multiple value exist - if none: return original\n",
    "    splittable_values = is_splittable(data_series, delimiter)\n",
    "    if not splittable_values.any():\n",
    "        return data_series\n",
    "    \n",
    "    # Else, split each value to a list\n",
    "    modified_series = split_value(data_series, delimiter)\n",
    "    \n",
    "    # Replace NAs with empty lists\n",
    "    mask_null = modified_series.isnull()\n",
    "    modified_series.loc[mask_null] = modified_series.loc[mask_null].apply(lambda x: [])\n",
    "    \n",
    "    return modified_series"
   ]
  },
  {
   "cell_type": "code",
   "execution_count": null,
   "id": "02ee892f",
   "metadata": {},
   "outputs": [],
   "source": [
    "object_cols = df.select_dtypes(include='object').columns.tolist()\n",
    "for col in object_cols:\n",
    "    df[col] = split_values(df[col])"
   ]
  },
  {
   "cell_type": "code",
   "execution_count": null,
   "id": "78be5d10",
   "metadata": {},
   "outputs": [],
   "source": []
  }
 ],
 "metadata": {
  "kernelspec": {
   "display_name": "Python 3 (ipykernel)",
   "language": "python",
   "name": "python3"
  },
  "language_info": {
   "codemirror_mode": {
    "name": "ipython",
    "version": 3
   },
   "file_extension": ".py",
   "mimetype": "text/x-python",
   "name": "python",
   "nbconvert_exporter": "python",
   "pygments_lexer": "ipython3",
   "version": "3.10.0"
  }
 },
 "nbformat": 4,
 "nbformat_minor": 5
}
