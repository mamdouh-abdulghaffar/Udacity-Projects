{
 "cells": [
  {
   "cell_type": "markdown",
   "metadata": {},
   "source": [
    "# Project: TMDB-Movies\n",
    "\n",
    "## Table of Contents\n",
    "> <ul>\n",
    "> <li><a href=\"#intro\">Introduction</a></li>\n",
    ">\n",
    "> <li><a href=\"#wrangling\">Data Wrangling</a></li>\n",
    "> \n",
    "> <li><a href=\"#eda\">Exploratory Data Analysis</a></li> \n",
    "> \n",
    "> <li><a href=\"#subset\">subset the data with Profit</a></li>  \n",
    "> \n",
    "> <li><a href=\"#conclusions\">Conclusions</a></li>\n",
    "> </ul>"
   ]
  },
  {
   "cell_type": "markdown",
   "metadata": {},
   "source": [
    "<a id='intro'></a>\n",
    "## Introduction\n",
    "\n",
    "### Dataset Description \n",
    "\n",
    "> This data set contains information about 10,000 movies collected from The Movie Database (TMDb),\n",
    ">\n",
    "> including user ratings and revenue.\n",
    ">\n",
    "> Certain columns, like ‘cast’ and ‘genres’, contain multiple values separated by pipe (|) characters.\n",
    ">\n",
    "> There are some odd characters in the ‘cast’ column. Don’t worry about cleaning them. You can leave \n",
    ">\n",
    "> them as is.\n",
    ">\n",
    "> As mentioned before the budget and revenue column do not have currency unit, it might be possible different movies have \n",
    "> budget in different  currency according to the country they are produce in.\n",
    "> we will use the two columns ending with \"_adj\" (budget_adj and revenue_adj) as that show the budget and revenue of the associated movie in terms of 2010 dollars, accounting for inflation over time.\n",
    "\n",
    "> ### Question(s) for Analysis\n",
    "> <ul>\n",
    "> <li><a href=\"#q1\">The relation between Year of release vs Profitability</a></li>\n",
    "> <li><a href=\"#q2\">Which genres are most popular from year to year?</a></li>\n",
    "> <li><a href=\"#q3\">The most profit decade by decade?</a></li>\n",
    "> <li><a href=\"#q4\">The most budjet decade by decade?</a></li>\n",
    "> <li><a href=\"#q5\">The most revenue decade by decade?</a></li>\n",
    "> <li><a href=\"#q6\">Shows the distribution of the budget by genres</a></li>\n",
    "> </ul>\n",
    "             "
   ]
  },
  {
   "cell_type": "code",
   "execution_count": 1,
   "metadata": {},
   "outputs": [],
   "source": [
    "# !pip install pandas==1.1.5"
   ]
  },
  {
   "cell_type": "code",
   "execution_count": 2,
   "metadata": {},
   "outputs": [],
   "source": [
    "# Importing Packages\n",
    "import numpy as np\n",
    "import pandas as pd\n",
    "import matplotlib.pyplot as plt\n",
    "import seaborn as sns\n",
    "% matplotlib inline\n",
    "sns.set()"
   ]
  },
  {
   "cell_type": "code",
   "execution_count": 3,
   "metadata": {},
   "outputs": [],
   "source": [
    "# Constants\n",
    "DATA_FILE = 'Database_TMDb_movie_data/tmdb-movies.csv'\n",
    "DROP_COLUMNS = ['imdb_id', 'budget', 'revenue', 'homepage', 'production_companies', 'tagline', 'overview', 'release_date', 'keywords']"
   ]
  },
  {
   "cell_type": "markdown",
   "metadata": {},
   "source": [
    "## Functions"
   ]
  },
  {
   "cell_type": "code",
   "execution_count": 4,
   "metadata": {},
   "outputs": [],
   "source": [
    "# missing Data\n",
    "def per_missing(df):\n",
    "    \n",
    "    \"\"\" \n",
    "    Select the columns that have missing values and summition of the missing values \n",
    "    and the percent of the missing valus from all the data\n",
    "        \n",
    "    parameters:\n",
    "    * df: Data Frame\n",
    "    \n",
    "    Rerurns: missing table that contains the count of missing values and it's percentage\n",
    "    \n",
    "    \"\"\"\n",
    "    \n",
    "    missing_count = df.isna().sum().sort_values(ascending=False)\n",
    "    missing_percent = (100 * df.isna().sum().sort_values(ascending=False)) / len(df)\n",
    "    missing_count = pd.DataFrame(missing_count[missing_count>0])\n",
    "    missing_percent = pd.DataFrame(missing_percent[missing_percent>0])\n",
    "    missing_table = pd.concat([missing_count, missing_percent], axis=1)\n",
    "    missing_table.columns = ['missing_count', 'missing_percent']\n",
    "    \n",
    "    return missing_table\n",
    "\n",
    "# ------------------------------------------------------------------------------------------------------\n",
    "\n",
    "# Visualization\n",
    "def bar_plot(x, y, data):\n",
    "    \"\"\"\n",
    "    make a bae plot chart for the data without confidence interval\n",
    "    \n",
    "    parameters:\n",
    "    * x: the column will be draw on the x axis\n",
    "    * y: the column will be draw on the y axis    \n",
    "    \"\"\"\n",
    "    plt.figure(figsize = (8,4), dpi = 100)\n",
    "    sns.barplot(x = x, y = y, data=data, ci=None)\n",
    "    \n",
    "    # optinal after ploting clean up variable nmaes\n",
    "    x = x.replace(\"_\", \" \")\n",
    "    y = y.replace(\"_\", \" \")\n",
    "    \n",
    "    # adding title and format it\n",
    "    plt.title(f'Average {y} by {x}'.title(), fontsize=14, weight='bold')\n",
    "    \n",
    "    # adding x label and format it\n",
    "    plt.xlabel(x.title(), fontsize=10, weight=\"bold\")\n",
    "    \n",
    "    # adding y label and format it\n",
    "    plt.ylabel(f'Average {y}'.title(), fontsize=10, weight=\"bold\")\n",
    "    \n",
    "    plt.show()\n",
    "    \n",
    "\n",
    "# box plot\n",
    "def box_plot(x, y, data, ylog=True):\n",
    "    \"\"\"\n",
    "     make a box plot chart for the data \n",
    "    \n",
    "     parameters:\n",
    "     * x: the column will be draw on the x axis\n",
    "     * y: the column will be draw on the y axis  \n",
    "     * data: data frame\n",
    "     * ylog: boolean value for take log for y axis data\n",
    "     \"\"\"    \n",
    "    plt.figure(figsize = (8,4), dpi = 100)\n",
    "    sns.boxplot(x = x ,y = y,\n",
    "                data = data)\n",
    "    \n",
    "    # if need log\n",
    "    if ylog:\n",
    "        plt.yscale('log')\n",
    "        \n",
    "    # optinal after ploting clean up variable nmaes\n",
    "    x = x.replace(\"_\", \" \")\n",
    "    y = y.replace(\"_\", \" \")\n",
    "    \n",
    "    # adding title and format it\n",
    "    plt.title(f'The distribution of the {y} by {x}'.title(), fontsize=14, weight=\"bold\")\n",
    "    \n",
    "    # adding x label and format it\n",
    "    plt.xlabel(x.title(), fontsize=10, weight=\"bold\")\n",
    "    plt.xticks(rotation=90)\n",
    "    # adding y label and format it\n",
    "    plt.ylabel('multiple'.title(), fontsize=10, weight=\"bold\")\n",
    "    \n",
    "    plt.show()"
   ]
  },
  {
   "cell_type": "markdown",
   "metadata": {},
   "source": [
    "<a id='wrangling'></a>\n",
    "## Data Wrangling"
   ]
  },
  {
   "cell_type": "code",
   "execution_count": 5,
   "metadata": {},
   "outputs": [
    {
     "data": {
      "text/plain": [
       "(10866, 21)"
      ]
     },
     "execution_count": 5,
     "metadata": {},
     "output_type": "execute_result"
    }
   ],
   "source": [
    "# Load Data\n",
    "df = pd.read_csv(DATA_FILE)\n",
    "df.shape"
   ]
  },
  {
   "cell_type": "code",
   "execution_count": 6,
   "metadata": {},
   "outputs": [
    {
     "data": {
      "text/html": [
       "<div>\n",
       "<style scoped>\n",
       "    .dataframe tbody tr th:only-of-type {\n",
       "        vertical-align: middle;\n",
       "    }\n",
       "\n",
       "    .dataframe tbody tr th {\n",
       "        vertical-align: top;\n",
       "    }\n",
       "\n",
       "    .dataframe thead th {\n",
       "        text-align: right;\n",
       "    }\n",
       "</style>\n",
       "<table border=\"1\" class=\"dataframe\">\n",
       "  <thead>\n",
       "    <tr style=\"text-align: right;\">\n",
       "      <th></th>\n",
       "      <th>id</th>\n",
       "      <th>imdb_id</th>\n",
       "      <th>popularity</th>\n",
       "      <th>budget</th>\n",
       "      <th>revenue</th>\n",
       "      <th>original_title</th>\n",
       "      <th>cast</th>\n",
       "      <th>homepage</th>\n",
       "      <th>director</th>\n",
       "      <th>tagline</th>\n",
       "      <th>...</th>\n",
       "      <th>overview</th>\n",
       "      <th>runtime</th>\n",
       "      <th>genres</th>\n",
       "      <th>production_companies</th>\n",
       "      <th>release_date</th>\n",
       "      <th>vote_count</th>\n",
       "      <th>vote_average</th>\n",
       "      <th>release_year</th>\n",
       "      <th>budget_adj</th>\n",
       "      <th>revenue_adj</th>\n",
       "    </tr>\n",
       "  </thead>\n",
       "  <tbody>\n",
       "    <tr>\n",
       "      <th>0</th>\n",
       "      <td>135397</td>\n",
       "      <td>tt0369610</td>\n",
       "      <td>32.985763</td>\n",
       "      <td>150000000</td>\n",
       "      <td>1513528810</td>\n",
       "      <td>Jurassic World</td>\n",
       "      <td>Chris Pratt|Bryce Dallas Howard|Irrfan Khan|Vi...</td>\n",
       "      <td>http://www.jurassicworld.com/</td>\n",
       "      <td>Colin Trevorrow</td>\n",
       "      <td>The park is open.</td>\n",
       "      <td>...</td>\n",
       "      <td>Twenty-two years after the events of Jurassic ...</td>\n",
       "      <td>124</td>\n",
       "      <td>Action|Adventure|Science Fiction|Thriller</td>\n",
       "      <td>Universal Studios|Amblin Entertainment|Legenda...</td>\n",
       "      <td>6/9/15</td>\n",
       "      <td>5562</td>\n",
       "      <td>6.5</td>\n",
       "      <td>2015</td>\n",
       "      <td>1.379999e+08</td>\n",
       "      <td>1.392446e+09</td>\n",
       "    </tr>\n",
       "    <tr>\n",
       "      <th>1</th>\n",
       "      <td>76341</td>\n",
       "      <td>tt1392190</td>\n",
       "      <td>28.419936</td>\n",
       "      <td>150000000</td>\n",
       "      <td>378436354</td>\n",
       "      <td>Mad Max: Fury Road</td>\n",
       "      <td>Tom Hardy|Charlize Theron|Hugh Keays-Byrne|Nic...</td>\n",
       "      <td>http://www.madmaxmovie.com/</td>\n",
       "      <td>George Miller</td>\n",
       "      <td>What a Lovely Day.</td>\n",
       "      <td>...</td>\n",
       "      <td>An apocalyptic story set in the furthest reach...</td>\n",
       "      <td>120</td>\n",
       "      <td>Action|Adventure|Science Fiction|Thriller</td>\n",
       "      <td>Village Roadshow Pictures|Kennedy Miller Produ...</td>\n",
       "      <td>5/13/15</td>\n",
       "      <td>6185</td>\n",
       "      <td>7.1</td>\n",
       "      <td>2015</td>\n",
       "      <td>1.379999e+08</td>\n",
       "      <td>3.481613e+08</td>\n",
       "    </tr>\n",
       "    <tr>\n",
       "      <th>2</th>\n",
       "      <td>262500</td>\n",
       "      <td>tt2908446</td>\n",
       "      <td>13.112507</td>\n",
       "      <td>110000000</td>\n",
       "      <td>295238201</td>\n",
       "      <td>Insurgent</td>\n",
       "      <td>Shailene Woodley|Theo James|Kate Winslet|Ansel...</td>\n",
       "      <td>http://www.thedivergentseries.movie/#insurgent</td>\n",
       "      <td>Robert Schwentke</td>\n",
       "      <td>One Choice Can Destroy You</td>\n",
       "      <td>...</td>\n",
       "      <td>Beatrice Prior must confront her inner demons ...</td>\n",
       "      <td>119</td>\n",
       "      <td>Adventure|Science Fiction|Thriller</td>\n",
       "      <td>Summit Entertainment|Mandeville Films|Red Wago...</td>\n",
       "      <td>3/18/15</td>\n",
       "      <td>2480</td>\n",
       "      <td>6.3</td>\n",
       "      <td>2015</td>\n",
       "      <td>1.012000e+08</td>\n",
       "      <td>2.716190e+08</td>\n",
       "    </tr>\n",
       "    <tr>\n",
       "      <th>3</th>\n",
       "      <td>140607</td>\n",
       "      <td>tt2488496</td>\n",
       "      <td>11.173104</td>\n",
       "      <td>200000000</td>\n",
       "      <td>2068178225</td>\n",
       "      <td>Star Wars: The Force Awakens</td>\n",
       "      <td>Harrison Ford|Mark Hamill|Carrie Fisher|Adam D...</td>\n",
       "      <td>http://www.starwars.com/films/star-wars-episod...</td>\n",
       "      <td>J.J. Abrams</td>\n",
       "      <td>Every generation has a story.</td>\n",
       "      <td>...</td>\n",
       "      <td>Thirty years after defeating the Galactic Empi...</td>\n",
       "      <td>136</td>\n",
       "      <td>Action|Adventure|Science Fiction|Fantasy</td>\n",
       "      <td>Lucasfilm|Truenorth Productions|Bad Robot</td>\n",
       "      <td>12/15/15</td>\n",
       "      <td>5292</td>\n",
       "      <td>7.5</td>\n",
       "      <td>2015</td>\n",
       "      <td>1.839999e+08</td>\n",
       "      <td>1.902723e+09</td>\n",
       "    </tr>\n",
       "    <tr>\n",
       "      <th>4</th>\n",
       "      <td>168259</td>\n",
       "      <td>tt2820852</td>\n",
       "      <td>9.335014</td>\n",
       "      <td>190000000</td>\n",
       "      <td>1506249360</td>\n",
       "      <td>Furious 7</td>\n",
       "      <td>Vin Diesel|Paul Walker|Jason Statham|Michelle ...</td>\n",
       "      <td>http://www.furious7.com/</td>\n",
       "      <td>James Wan</td>\n",
       "      <td>Vengeance Hits Home</td>\n",
       "      <td>...</td>\n",
       "      <td>Deckard Shaw seeks revenge against Dominic Tor...</td>\n",
       "      <td>137</td>\n",
       "      <td>Action|Crime|Thriller</td>\n",
       "      <td>Universal Pictures|Original Film|Media Rights ...</td>\n",
       "      <td>4/1/15</td>\n",
       "      <td>2947</td>\n",
       "      <td>7.3</td>\n",
       "      <td>2015</td>\n",
       "      <td>1.747999e+08</td>\n",
       "      <td>1.385749e+09</td>\n",
       "    </tr>\n",
       "  </tbody>\n",
       "</table>\n",
       "<p>5 rows × 21 columns</p>\n",
       "</div>"
      ],
      "text/plain": [
       "       id    imdb_id  popularity     budget     revenue  \\\n",
       "0  135397  tt0369610   32.985763  150000000  1513528810   \n",
       "1   76341  tt1392190   28.419936  150000000   378436354   \n",
       "2  262500  tt2908446   13.112507  110000000   295238201   \n",
       "3  140607  tt2488496   11.173104  200000000  2068178225   \n",
       "4  168259  tt2820852    9.335014  190000000  1506249360   \n",
       "\n",
       "                 original_title  \\\n",
       "0                Jurassic World   \n",
       "1            Mad Max: Fury Road   \n",
       "2                     Insurgent   \n",
       "3  Star Wars: The Force Awakens   \n",
       "4                     Furious 7   \n",
       "\n",
       "                                                cast  \\\n",
       "0  Chris Pratt|Bryce Dallas Howard|Irrfan Khan|Vi...   \n",
       "1  Tom Hardy|Charlize Theron|Hugh Keays-Byrne|Nic...   \n",
       "2  Shailene Woodley|Theo James|Kate Winslet|Ansel...   \n",
       "3  Harrison Ford|Mark Hamill|Carrie Fisher|Adam D...   \n",
       "4  Vin Diesel|Paul Walker|Jason Statham|Michelle ...   \n",
       "\n",
       "                                            homepage          director  \\\n",
       "0                      http://www.jurassicworld.com/   Colin Trevorrow   \n",
       "1                        http://www.madmaxmovie.com/     George Miller   \n",
       "2     http://www.thedivergentseries.movie/#insurgent  Robert Schwentke   \n",
       "3  http://www.starwars.com/films/star-wars-episod...       J.J. Abrams   \n",
       "4                           http://www.furious7.com/         James Wan   \n",
       "\n",
       "                         tagline  ...  \\\n",
       "0              The park is open.  ...   \n",
       "1             What a Lovely Day.  ...   \n",
       "2     One Choice Can Destroy You  ...   \n",
       "3  Every generation has a story.  ...   \n",
       "4            Vengeance Hits Home  ...   \n",
       "\n",
       "                                            overview runtime  \\\n",
       "0  Twenty-two years after the events of Jurassic ...     124   \n",
       "1  An apocalyptic story set in the furthest reach...     120   \n",
       "2  Beatrice Prior must confront her inner demons ...     119   \n",
       "3  Thirty years after defeating the Galactic Empi...     136   \n",
       "4  Deckard Shaw seeks revenge against Dominic Tor...     137   \n",
       "\n",
       "                                      genres  \\\n",
       "0  Action|Adventure|Science Fiction|Thriller   \n",
       "1  Action|Adventure|Science Fiction|Thriller   \n",
       "2         Adventure|Science Fiction|Thriller   \n",
       "3   Action|Adventure|Science Fiction|Fantasy   \n",
       "4                      Action|Crime|Thriller   \n",
       "\n",
       "                                production_companies release_date vote_count  \\\n",
       "0  Universal Studios|Amblin Entertainment|Legenda...       6/9/15       5562   \n",
       "1  Village Roadshow Pictures|Kennedy Miller Produ...      5/13/15       6185   \n",
       "2  Summit Entertainment|Mandeville Films|Red Wago...      3/18/15       2480   \n",
       "3          Lucasfilm|Truenorth Productions|Bad Robot     12/15/15       5292   \n",
       "4  Universal Pictures|Original Film|Media Rights ...       4/1/15       2947   \n",
       "\n",
       "   vote_average  release_year    budget_adj   revenue_adj  \n",
       "0           6.5          2015  1.379999e+08  1.392446e+09  \n",
       "1           7.1          2015  1.379999e+08  3.481613e+08  \n",
       "2           6.3          2015  1.012000e+08  2.716190e+08  \n",
       "3           7.5          2015  1.839999e+08  1.902723e+09  \n",
       "4           7.3          2015  1.747999e+08  1.385749e+09  \n",
       "\n",
       "[5 rows x 21 columns]"
      ]
     },
     "execution_count": 6,
     "metadata": {},
     "output_type": "execute_result"
    }
   ],
   "source": [
    "# take a look at the data\n",
    "df.head()"
   ]
  },
  {
   "cell_type": "code",
   "execution_count": 7,
   "metadata": {},
   "outputs": [
    {
     "name": "stdout",
     "output_type": "stream",
     "text": [
      "<class 'pandas.core.frame.DataFrame'>\n",
      "RangeIndex: 10866 entries, 0 to 10865\n",
      "Data columns (total 21 columns):\n",
      " #   Column                Non-Null Count  Dtype  \n",
      "---  ------                --------------  -----  \n",
      " 0   id                    10866 non-null  int64  \n",
      " 1   imdb_id               10856 non-null  object \n",
      " 2   popularity            10866 non-null  float64\n",
      " 3   budget                10866 non-null  int64  \n",
      " 4   revenue               10866 non-null  int64  \n",
      " 5   original_title        10866 non-null  object \n",
      " 6   cast                  10790 non-null  object \n",
      " 7   homepage              2936 non-null   object \n",
      " 8   director              10822 non-null  object \n",
      " 9   tagline               8042 non-null   object \n",
      " 10  keywords              9373 non-null   object \n",
      " 11  overview              10862 non-null  object \n",
      " 12  runtime               10866 non-null  int64  \n",
      " 13  genres                10843 non-null  object \n",
      " 14  production_companies  9836 non-null   object \n",
      " 15  release_date          10866 non-null  object \n",
      " 16  vote_count            10866 non-null  int64  \n",
      " 17  vote_average          10866 non-null  float64\n",
      " 18  release_year          10866 non-null  int64  \n",
      " 19  budget_adj            10866 non-null  float64\n",
      " 20  revenue_adj           10866 non-null  float64\n",
      "dtypes: float64(4), int64(6), object(11)\n",
      "memory usage: 1.7+ MB\n"
     ]
    }
   ],
   "source": [
    "# Information\n",
    "df.info()"
   ]
  },
  {
   "cell_type": "code",
   "execution_count": 8,
   "metadata": {},
   "outputs": [
    {
     "data": {
      "text/html": [
       "<div>\n",
       "<style scoped>\n",
       "    .dataframe tbody tr th:only-of-type {\n",
       "        vertical-align: middle;\n",
       "    }\n",
       "\n",
       "    .dataframe tbody tr th {\n",
       "        vertical-align: top;\n",
       "    }\n",
       "\n",
       "    .dataframe thead th {\n",
       "        text-align: right;\n",
       "    }\n",
       "</style>\n",
       "<table border=\"1\" class=\"dataframe\">\n",
       "  <thead>\n",
       "    <tr style=\"text-align: right;\">\n",
       "      <th></th>\n",
       "      <th>mean</th>\n",
       "      <th>std</th>\n",
       "      <th>min</th>\n",
       "      <th>25%</th>\n",
       "      <th>50%</th>\n",
       "      <th>75%</th>\n",
       "      <th>max</th>\n",
       "    </tr>\n",
       "  </thead>\n",
       "  <tbody>\n",
       "    <tr>\n",
       "      <th>id</th>\n",
       "      <td>6.606418e+04</td>\n",
       "      <td>9.213014e+04</td>\n",
       "      <td>5.000000</td>\n",
       "      <td>10596.250000</td>\n",
       "      <td>20669.000000</td>\n",
       "      <td>7.561000e+04</td>\n",
       "      <td>4.178590e+05</td>\n",
       "    </tr>\n",
       "    <tr>\n",
       "      <th>popularity</th>\n",
       "      <td>6.464410e-01</td>\n",
       "      <td>1.000185e+00</td>\n",
       "      <td>0.000065</td>\n",
       "      <td>0.207583</td>\n",
       "      <td>0.383856</td>\n",
       "      <td>7.138170e-01</td>\n",
       "      <td>3.298576e+01</td>\n",
       "    </tr>\n",
       "    <tr>\n",
       "      <th>budget</th>\n",
       "      <td>1.462570e+07</td>\n",
       "      <td>3.091321e+07</td>\n",
       "      <td>0.000000</td>\n",
       "      <td>0.000000</td>\n",
       "      <td>0.000000</td>\n",
       "      <td>1.500000e+07</td>\n",
       "      <td>4.250000e+08</td>\n",
       "    </tr>\n",
       "    <tr>\n",
       "      <th>revenue</th>\n",
       "      <td>3.982332e+07</td>\n",
       "      <td>1.170035e+08</td>\n",
       "      <td>0.000000</td>\n",
       "      <td>0.000000</td>\n",
       "      <td>0.000000</td>\n",
       "      <td>2.400000e+07</td>\n",
       "      <td>2.781506e+09</td>\n",
       "    </tr>\n",
       "    <tr>\n",
       "      <th>runtime</th>\n",
       "      <td>1.020709e+02</td>\n",
       "      <td>3.138141e+01</td>\n",
       "      <td>0.000000</td>\n",
       "      <td>90.000000</td>\n",
       "      <td>99.000000</td>\n",
       "      <td>1.110000e+02</td>\n",
       "      <td>9.000000e+02</td>\n",
       "    </tr>\n",
       "    <tr>\n",
       "      <th>vote_count</th>\n",
       "      <td>2.173897e+02</td>\n",
       "      <td>5.756191e+02</td>\n",
       "      <td>10.000000</td>\n",
       "      <td>17.000000</td>\n",
       "      <td>38.000000</td>\n",
       "      <td>1.457500e+02</td>\n",
       "      <td>9.767000e+03</td>\n",
       "    </tr>\n",
       "    <tr>\n",
       "      <th>vote_average</th>\n",
       "      <td>5.974922e+00</td>\n",
       "      <td>9.351418e-01</td>\n",
       "      <td>1.500000</td>\n",
       "      <td>5.400000</td>\n",
       "      <td>6.000000</td>\n",
       "      <td>6.600000e+00</td>\n",
       "      <td>9.200000e+00</td>\n",
       "    </tr>\n",
       "    <tr>\n",
       "      <th>release_year</th>\n",
       "      <td>2.001323e+03</td>\n",
       "      <td>1.281294e+01</td>\n",
       "      <td>1960.000000</td>\n",
       "      <td>1995.000000</td>\n",
       "      <td>2006.000000</td>\n",
       "      <td>2.011000e+03</td>\n",
       "      <td>2.015000e+03</td>\n",
       "    </tr>\n",
       "    <tr>\n",
       "      <th>budget_adj</th>\n",
       "      <td>1.755104e+07</td>\n",
       "      <td>3.430616e+07</td>\n",
       "      <td>0.000000</td>\n",
       "      <td>0.000000</td>\n",
       "      <td>0.000000</td>\n",
       "      <td>2.085325e+07</td>\n",
       "      <td>4.250000e+08</td>\n",
       "    </tr>\n",
       "    <tr>\n",
       "      <th>revenue_adj</th>\n",
       "      <td>5.136436e+07</td>\n",
       "      <td>1.446325e+08</td>\n",
       "      <td>0.000000</td>\n",
       "      <td>0.000000</td>\n",
       "      <td>0.000000</td>\n",
       "      <td>3.369710e+07</td>\n",
       "      <td>2.827124e+09</td>\n",
       "    </tr>\n",
       "  </tbody>\n",
       "</table>\n",
       "</div>"
      ],
      "text/plain": [
       "                      mean           std          min           25%  \\\n",
       "id            6.606418e+04  9.213014e+04     5.000000  10596.250000   \n",
       "popularity    6.464410e-01  1.000185e+00     0.000065      0.207583   \n",
       "budget        1.462570e+07  3.091321e+07     0.000000      0.000000   \n",
       "revenue       3.982332e+07  1.170035e+08     0.000000      0.000000   \n",
       "runtime       1.020709e+02  3.138141e+01     0.000000     90.000000   \n",
       "vote_count    2.173897e+02  5.756191e+02    10.000000     17.000000   \n",
       "vote_average  5.974922e+00  9.351418e-01     1.500000      5.400000   \n",
       "release_year  2.001323e+03  1.281294e+01  1960.000000   1995.000000   \n",
       "budget_adj    1.755104e+07  3.430616e+07     0.000000      0.000000   \n",
       "revenue_adj   5.136436e+07  1.446325e+08     0.000000      0.000000   \n",
       "\n",
       "                       50%           75%           max  \n",
       "id            20669.000000  7.561000e+04  4.178590e+05  \n",
       "popularity        0.383856  7.138170e-01  3.298576e+01  \n",
       "budget            0.000000  1.500000e+07  4.250000e+08  \n",
       "revenue           0.000000  2.400000e+07  2.781506e+09  \n",
       "runtime          99.000000  1.110000e+02  9.000000e+02  \n",
       "vote_count       38.000000  1.457500e+02  9.767000e+03  \n",
       "vote_average      6.000000  6.600000e+00  9.200000e+00  \n",
       "release_year   2006.000000  2.011000e+03  2.015000e+03  \n",
       "budget_adj        0.000000  2.085325e+07  4.250000e+08  \n",
       "revenue_adj       0.000000  3.369710e+07  2.827124e+09  "
      ]
     },
     "execution_count": 8,
     "metadata": {},
     "output_type": "execute_result"
    }
   ],
   "source": [
    "# summary statistics for numeric columns\n",
    "df.describe().T.iloc[:,1:]"
   ]
  },
  {
   "cell_type": "code",
   "execution_count": 9,
   "metadata": {},
   "outputs": [
    {
     "data": {
      "text/html": [
       "<div>\n",
       "<style scoped>\n",
       "    .dataframe tbody tr th:only-of-type {\n",
       "        vertical-align: middle;\n",
       "    }\n",
       "\n",
       "    .dataframe tbody tr th {\n",
       "        vertical-align: top;\n",
       "    }\n",
       "\n",
       "    .dataframe thead th {\n",
       "        text-align: right;\n",
       "    }\n",
       "</style>\n",
       "<table border=\"1\" class=\"dataframe\">\n",
       "  <thead>\n",
       "    <tr style=\"text-align: right;\">\n",
       "      <th></th>\n",
       "      <th>unique</th>\n",
       "      <th>top</th>\n",
       "      <th>freq</th>\n",
       "    </tr>\n",
       "  </thead>\n",
       "  <tbody>\n",
       "    <tr>\n",
       "      <th>imdb_id</th>\n",
       "      <td>10855</td>\n",
       "      <td>tt0411951</td>\n",
       "      <td>2</td>\n",
       "    </tr>\n",
       "    <tr>\n",
       "      <th>original_title</th>\n",
       "      <td>10571</td>\n",
       "      <td>Hamlet</td>\n",
       "      <td>4</td>\n",
       "    </tr>\n",
       "    <tr>\n",
       "      <th>cast</th>\n",
       "      <td>10719</td>\n",
       "      <td>Louis C.K.</td>\n",
       "      <td>6</td>\n",
       "    </tr>\n",
       "    <tr>\n",
       "      <th>homepage</th>\n",
       "      <td>2896</td>\n",
       "      <td>http://www.thehungergames.movie/</td>\n",
       "      <td>4</td>\n",
       "    </tr>\n",
       "    <tr>\n",
       "      <th>director</th>\n",
       "      <td>5067</td>\n",
       "      <td>Woody Allen</td>\n",
       "      <td>45</td>\n",
       "    </tr>\n",
       "    <tr>\n",
       "      <th>tagline</th>\n",
       "      <td>7997</td>\n",
       "      <td>Based on a true story.</td>\n",
       "      <td>5</td>\n",
       "    </tr>\n",
       "    <tr>\n",
       "      <th>keywords</th>\n",
       "      <td>8804</td>\n",
       "      <td>woman director</td>\n",
       "      <td>134</td>\n",
       "    </tr>\n",
       "    <tr>\n",
       "      <th>overview</th>\n",
       "      <td>10847</td>\n",
       "      <td>No overview found.</td>\n",
       "      <td>13</td>\n",
       "    </tr>\n",
       "    <tr>\n",
       "      <th>genres</th>\n",
       "      <td>2039</td>\n",
       "      <td>Drama</td>\n",
       "      <td>712</td>\n",
       "    </tr>\n",
       "    <tr>\n",
       "      <th>production_companies</th>\n",
       "      <td>7445</td>\n",
       "      <td>Paramount Pictures</td>\n",
       "      <td>156</td>\n",
       "    </tr>\n",
       "    <tr>\n",
       "      <th>release_date</th>\n",
       "      <td>5909</td>\n",
       "      <td>1/1/09</td>\n",
       "      <td>28</td>\n",
       "    </tr>\n",
       "  </tbody>\n",
       "</table>\n",
       "</div>"
      ],
      "text/plain": [
       "                     unique                               top freq\n",
       "imdb_id               10855                         tt0411951    2\n",
       "original_title        10571                            Hamlet    4\n",
       "cast                  10719                        Louis C.K.    6\n",
       "homepage               2896  http://www.thehungergames.movie/    4\n",
       "director               5067                       Woody Allen   45\n",
       "tagline                7997            Based on a true story.    5\n",
       "keywords               8804                    woman director  134\n",
       "overview              10847                No overview found.   13\n",
       "genres                 2039                             Drama  712\n",
       "production_companies   7445                Paramount Pictures  156\n",
       "release_date           5909                            1/1/09   28"
      ]
     },
     "execution_count": 9,
     "metadata": {},
     "output_type": "execute_result"
    }
   ],
   "source": [
    "# summary statistics for object columns\n",
    "df.describe(include=\"O\").T.iloc[:, 1:]"
   ]
  },
  {
   "cell_type": "code",
   "execution_count": 10,
   "metadata": {},
   "outputs": [
    {
     "data": {
      "text/plain": [
       "1"
      ]
     },
     "execution_count": 10,
     "metadata": {},
     "output_type": "execute_result"
    }
   ],
   "source": [
    "# duplicates \n",
    "sum(df.duplicated())"
   ]
  },
  {
   "cell_type": "markdown",
   "metadata": {},
   "source": [
    "### Missing Values"
   ]
  },
  {
   "cell_type": "code",
   "execution_count": 11,
   "metadata": {},
   "outputs": [
    {
     "data": {
      "text/html": [
       "<div>\n",
       "<style scoped>\n",
       "    .dataframe tbody tr th:only-of-type {\n",
       "        vertical-align: middle;\n",
       "    }\n",
       "\n",
       "    .dataframe tbody tr th {\n",
       "        vertical-align: top;\n",
       "    }\n",
       "\n",
       "    .dataframe thead th {\n",
       "        text-align: right;\n",
       "    }\n",
       "</style>\n",
       "<table border=\"1\" class=\"dataframe\">\n",
       "  <thead>\n",
       "    <tr style=\"text-align: right;\">\n",
       "      <th></th>\n",
       "      <th>missing_count</th>\n",
       "      <th>missing_percent</th>\n",
       "    </tr>\n",
       "  </thead>\n",
       "  <tbody>\n",
       "    <tr>\n",
       "      <th>homepage</th>\n",
       "      <td>7930</td>\n",
       "      <td>72.979937</td>\n",
       "    </tr>\n",
       "    <tr>\n",
       "      <th>tagline</th>\n",
       "      <td>2824</td>\n",
       "      <td>25.989324</td>\n",
       "    </tr>\n",
       "    <tr>\n",
       "      <th>keywords</th>\n",
       "      <td>1493</td>\n",
       "      <td>13.740107</td>\n",
       "    </tr>\n",
       "    <tr>\n",
       "      <th>production_companies</th>\n",
       "      <td>1030</td>\n",
       "      <td>9.479109</td>\n",
       "    </tr>\n",
       "    <tr>\n",
       "      <th>cast</th>\n",
       "      <td>76</td>\n",
       "      <td>0.699429</td>\n",
       "    </tr>\n",
       "    <tr>\n",
       "      <th>director</th>\n",
       "      <td>44</td>\n",
       "      <td>0.404933</td>\n",
       "    </tr>\n",
       "    <tr>\n",
       "      <th>genres</th>\n",
       "      <td>23</td>\n",
       "      <td>0.211669</td>\n",
       "    </tr>\n",
       "    <tr>\n",
       "      <th>imdb_id</th>\n",
       "      <td>10</td>\n",
       "      <td>0.092030</td>\n",
       "    </tr>\n",
       "    <tr>\n",
       "      <th>overview</th>\n",
       "      <td>4</td>\n",
       "      <td>0.036812</td>\n",
       "    </tr>\n",
       "  </tbody>\n",
       "</table>\n",
       "</div>"
      ],
      "text/plain": [
       "                      missing_count  missing_percent\n",
       "homepage                       7930        72.979937\n",
       "tagline                        2824        25.989324\n",
       "keywords                       1493        13.740107\n",
       "production_companies           1030         9.479109\n",
       "cast                             76         0.699429\n",
       "director                         44         0.404933\n",
       "genres                           23         0.211669\n",
       "imdb_id                          10         0.092030\n",
       "overview                          4         0.036812"
      ]
     },
     "execution_count": 11,
     "metadata": {},
     "output_type": "execute_result"
    }
   ],
   "source": [
    "percent_nan = per_missing(df)\n",
    "percent_nan"
   ]
  },
  {
   "cell_type": "code",
   "execution_count": 12,
   "metadata": {
    "scrolled": false
   },
   "outputs": [
    {
     "data": {
      "image/png": "[encoded data removed]",
      "text/plain": [
       "<matplotlib.figure.Figure at 0x7faf8cf78da0>"
      ]
     },
     "metadata": {
      "needs_background": "light"
     },
     "output_type": "display_data"
    }
   ],
   "source": [
    "# Visualization of the percent_nan\n",
    "plt.figure(figsize = (8,4), dpi = 100)\n",
    "sns.barplot(x = percent_nan.index, y = percent_nan.values[:,1], data=percent_nan)\n",
    "plt.xticks(rotation = 90)\n",
    "\n",
    "plt.title(f'percentage nan values'.title(), fontsize=14, weight='bold')\n",
    "plt.ylabel(f'the percentage'.title(), fontsize=10, weight=\"bold\")\n",
    "\n",
    "plt.show()\n"
   ]
  },
  {
   "cell_type": "markdown",
   "metadata": {},
   "source": [
    "> There are columns that are not neccessary for us in the analysis ==> we will **drop** them!\n",
    ">\n",
    "> There are **duplicate values**\n",
    ">\n",
    "> There are **missing data**\n",
    ">\n",
    "> we will **create columns** that will help uss in the analysis"
   ]
  },
  {
   "cell_type": "markdown",
   "metadata": {},
   "source": [
    "\n",
    "### Data Cleaning "
   ]
  },
  {
   "cell_type": "code",
   "execution_count": 13,
   "metadata": {},
   "outputs": [],
   "source": [
    "# drop duplicates\n",
    "df.drop_duplicates(inplace=True)"
   ]
  },
  {
   "cell_type": "code",
   "execution_count": 14,
   "metadata": {},
   "outputs": [],
   "source": [
    "# Insert column about the decade\n",
    "BINS = [1960,1970,1980,1990,2000,2010,2015]\n",
    "LABELS =['60s','70s','80s','90s', '2000s', '2010s']\n",
    "\n",
    "decade = pd.cut(df['release_year'], bins = BINS, labels = LABELS)\n",
    "df.insert(2, 'decade', decade)"
   ]
  },
  {
   "cell_type": "code",
   "execution_count": 15,
   "metadata": {},
   "outputs": [],
   "source": [
    "# drop the columns\n",
    "df.drop(DROP_COLUMNS, axis=1, inplace=True)"
   ]
  },
  {
   "cell_type": "code",
   "execution_count": 16,
   "metadata": {},
   "outputs": [],
   "source": [
    "# deleaing with missing data\n",
    "df.dropna(inplace=True)"
   ]
  },
  {
   "cell_type": "code",
   "execution_count": 17,
   "metadata": {},
   "outputs": [],
   "source": [
    "# Insert columns about the Profit\n",
    "profit =  df['revenue_adj'] - df['budget_adj']\n",
    "df.insert(3,'profit', profit)"
   ]
  },
  {
   "cell_type": "markdown",
   "metadata": {},
   "source": [
    "<a id='eda'></a>\n",
    "## Exploratory Data Analysis"
   ]
  },
  {
   "cell_type": "markdown",
   "metadata": {},
   "source": [
    "<a id='q1'></a>\n",
    "### Year of release vs Profitability"
   ]
  },
  {
   "cell_type": "code",
   "execution_count": 18,
   "metadata": {},
   "outputs": [
    {
     "data": {
      "image/png": "[encoded data removed]",
      "text/plain": [
       "<matplotlib.figure.Figure at 0x7faf8cc4a6a0>"
      ]
     },
     "metadata": {
      "needs_background": "light"
     },
     "output_type": "display_data"
    }
   ],
   "source": [
    "#We will be using Line plot for this analysis\n",
    "#Since we want to know the profits of movies for every year therefore we have to sum up all the movies of a particular year\n",
    "\n",
    "profits_year = df.groupby('release_year')['profit'].sum()\n",
    "\n",
    "#figure size(width, height)\n",
    "plt.figure(figsize=(12,6), dpi = 130)\n",
    "\n",
    "#on x-axis\n",
    "plt.xlabel('Release Year of Movies in the data set', fontsize = 12, weight='bold')\n",
    "#on y-axis\n",
    "plt.ylabel('Profits earned by Movies', fontsize = 12, weight='bold')\n",
    "#title of the line plot\n",
    "plt.title('Representing Total Profits earned by all movies Vs Year of their release.'.title(), weight='bold')\n",
    "\n",
    "#plotting the graph\n",
    "plt.plot(profits_year)\n",
    "\n",
    "plt.show()"
   ]
  },
  {
   "cell_type": "code",
   "execution_count": 19,
   "metadata": {},
   "outputs": [
    {
     "data": {
      "text/plain": [
       "2015"
      ]
     },
     "execution_count": 19,
     "metadata": {},
     "output_type": "execute_result"
    }
   ],
   "source": [
    "#To find that which year made the highest profit?\n",
    "profits_year.idxmax()"
   ]
  },
  {
   "cell_type": "code",
   "execution_count": 20,
   "metadata": {},
   "outputs": [
    {
     "data": {
      "text/plain": [
       "1966"
      ]
     },
     "execution_count": 20,
     "metadata": {},
     "output_type": "execute_result"
    }
   ],
   "source": [
    "#To find that which year made the highest profit?\n",
    "profits_year.idxmin()"
   ]
  },
  {
   "cell_type": "markdown",
   "metadata": {},
   "source": [
    "<a id='subset'></a>\n",
    "> So we can conclude both graphically as well as by calculations that year 2015 was the year where movies made the highest    \n",
    "profit.\n",
    "> \n",
    "> We are now done with analysing the given dataset.We will now find characteristics of profitable movies.\n",
    ">\n",
    "> ### With respect to the profitable movies\n",
    ">\n",
    "> Before moving further we need to clean our data again. We will be considering only those movies who have earned a significant > amount of profit.\n",
    "> \n",
    "> **So lets fix this amount to 40 million dollar**."
   ]
  },
  {
   "cell_type": "code",
   "execution_count": 21,
   "metadata": {},
   "outputs": [
    {
     "data": {
      "text/html": [
       "<div>\n",
       "<style scoped>\n",
       "    .dataframe tbody tr th:only-of-type {\n",
       "        vertical-align: middle;\n",
       "    }\n",
       "\n",
       "    .dataframe tbody tr th {\n",
       "        vertical-align: top;\n",
       "    }\n",
       "\n",
       "    .dataframe thead th {\n",
       "        text-align: right;\n",
       "    }\n",
       "</style>\n",
       "<table border=\"1\" class=\"dataframe\">\n",
       "  <thead>\n",
       "    <tr style=\"text-align: right;\">\n",
       "      <th></th>\n",
       "      <th>id</th>\n",
       "      <th>decade</th>\n",
       "      <th>popularity</th>\n",
       "      <th>profit</th>\n",
       "      <th>original_title</th>\n",
       "      <th>cast</th>\n",
       "      <th>director</th>\n",
       "      <th>runtime</th>\n",
       "      <th>genres</th>\n",
       "      <th>vote_count</th>\n",
       "      <th>vote_average</th>\n",
       "      <th>release_year</th>\n",
       "      <th>budget_adj</th>\n",
       "      <th>revenue_adj</th>\n",
       "    </tr>\n",
       "  </thead>\n",
       "  <tbody>\n",
       "    <tr>\n",
       "      <th>1</th>\n",
       "      <td>135397</td>\n",
       "      <td>2010s</td>\n",
       "      <td>32.985763</td>\n",
       "      <td>1.254446e+09</td>\n",
       "      <td>Jurassic World</td>\n",
       "      <td>Chris Pratt|Bryce Dallas Howard|Irrfan Khan|Vi...</td>\n",
       "      <td>Colin Trevorrow</td>\n",
       "      <td>124</td>\n",
       "      <td>Action|Adventure|Science Fiction|Thriller</td>\n",
       "      <td>5562</td>\n",
       "      <td>6.5</td>\n",
       "      <td>2015</td>\n",
       "      <td>1.379999e+08</td>\n",
       "      <td>1.392446e+09</td>\n",
       "    </tr>\n",
       "    <tr>\n",
       "      <th>2</th>\n",
       "      <td>76341</td>\n",
       "      <td>2010s</td>\n",
       "      <td>28.419936</td>\n",
       "      <td>2.101614e+08</td>\n",
       "      <td>Mad Max: Fury Road</td>\n",
       "      <td>Tom Hardy|Charlize Theron|Hugh Keays-Byrne|Nic...</td>\n",
       "      <td>George Miller</td>\n",
       "      <td>120</td>\n",
       "      <td>Action|Adventure|Science Fiction|Thriller</td>\n",
       "      <td>6185</td>\n",
       "      <td>7.1</td>\n",
       "      <td>2015</td>\n",
       "      <td>1.379999e+08</td>\n",
       "      <td>3.481613e+08</td>\n",
       "    </tr>\n",
       "    <tr>\n",
       "      <th>3</th>\n",
       "      <td>262500</td>\n",
       "      <td>2010s</td>\n",
       "      <td>13.112507</td>\n",
       "      <td>1.704191e+08</td>\n",
       "      <td>Insurgent</td>\n",
       "      <td>Shailene Woodley|Theo James|Kate Winslet|Ansel...</td>\n",
       "      <td>Robert Schwentke</td>\n",
       "      <td>119</td>\n",
       "      <td>Adventure|Science Fiction|Thriller</td>\n",
       "      <td>2480</td>\n",
       "      <td>6.3</td>\n",
       "      <td>2015</td>\n",
       "      <td>1.012000e+08</td>\n",
       "      <td>2.716190e+08</td>\n",
       "    </tr>\n",
       "    <tr>\n",
       "      <th>4</th>\n",
       "      <td>140607</td>\n",
       "      <td>2010s</td>\n",
       "      <td>11.173104</td>\n",
       "      <td>1.718723e+09</td>\n",
       "      <td>Star Wars: The Force Awakens</td>\n",
       "      <td>Harrison Ford|Mark Hamill|Carrie Fisher|Adam D...</td>\n",
       "      <td>J.J. Abrams</td>\n",
       "      <td>136</td>\n",
       "      <td>Action|Adventure|Science Fiction|Fantasy</td>\n",
       "      <td>5292</td>\n",
       "      <td>7.5</td>\n",
       "      <td>2015</td>\n",
       "      <td>1.839999e+08</td>\n",
       "      <td>1.902723e+09</td>\n",
       "    </tr>\n",
       "    <tr>\n",
       "      <th>5</th>\n",
       "      <td>168259</td>\n",
       "      <td>2010s</td>\n",
       "      <td>9.335014</td>\n",
       "      <td>1.210949e+09</td>\n",
       "      <td>Furious 7</td>\n",
       "      <td>Vin Diesel|Paul Walker|Jason Statham|Michelle ...</td>\n",
       "      <td>James Wan</td>\n",
       "      <td>137</td>\n",
       "      <td>Action|Crime|Thriller</td>\n",
       "      <td>2947</td>\n",
       "      <td>7.3</td>\n",
       "      <td>2015</td>\n",
       "      <td>1.747999e+08</td>\n",
       "      <td>1.385749e+09</td>\n",
       "    </tr>\n",
       "  </tbody>\n",
       "</table>\n",
       "</div>"
      ],
      "text/plain": [
       "       id decade  popularity        profit                original_title  \\\n",
       "1  135397  2010s   32.985763  1.254446e+09                Jurassic World   \n",
       "2   76341  2010s   28.419936  2.101614e+08            Mad Max: Fury Road   \n",
       "3  262500  2010s   13.112507  1.704191e+08                     Insurgent   \n",
       "4  140607  2010s   11.173104  1.718723e+09  Star Wars: The Force Awakens   \n",
       "5  168259  2010s    9.335014  1.210949e+09                     Furious 7   \n",
       "\n",
       "                                                cast          director  \\\n",
       "1  Chris Pratt|Bryce Dallas Howard|Irrfan Khan|Vi...   Colin Trevorrow   \n",
       "2  Tom Hardy|Charlize Theron|Hugh Keays-Byrne|Nic...     George Miller   \n",
       "3  Shailene Woodley|Theo James|Kate Winslet|Ansel...  Robert Schwentke   \n",
       "4  Harrison Ford|Mark Hamill|Carrie Fisher|Adam D...       J.J. Abrams   \n",
       "5  Vin Diesel|Paul Walker|Jason Statham|Michelle ...         James Wan   \n",
       "\n",
       "   runtime                                     genres  vote_count  \\\n",
       "1      124  Action|Adventure|Science Fiction|Thriller        5562   \n",
       "2      120  Action|Adventure|Science Fiction|Thriller        6185   \n",
       "3      119         Adventure|Science Fiction|Thriller        2480   \n",
       "4      136   Action|Adventure|Science Fiction|Fantasy        5292   \n",
       "5      137                      Action|Crime|Thriller        2947   \n",
       "\n",
       "   vote_average  release_year    budget_adj   revenue_adj  \n",
       "1           6.5          2015  1.379999e+08  1.392446e+09  \n",
       "2           7.1          2015  1.379999e+08  3.481613e+08  \n",
       "3           6.3          2015  1.012000e+08  2.716190e+08  \n",
       "4           7.5          2015  1.839999e+08  1.902723e+09  \n",
       "5           7.3          2015  1.747999e+08  1.385749e+09  "
      ]
     },
     "execution_count": 21,
     "metadata": {},
     "output_type": "execute_result"
    }
   ],
   "source": [
    "#selecting the movies having profit $40M or more\n",
    "profit_data = df[df['profit'] >= 40000000]\n",
    "\n",
    "#reindexing new data\n",
    "profit_data.index = range(len(profit_data))\n",
    "\n",
    "# we will start from 1 instead of 0\n",
    "profit_data.index = profit_data.index + 1\n",
    "\n",
    "# shape\n",
    "profit_data.head()"
   ]
  },
  {
   "cell_type": "markdown",
   "metadata": {},
   "source": [
    "<a id='q2'></a>\n",
    "### Which genres are most popular from year to year?"
   ]
  },
  {
   "cell_type": "code",
   "execution_count": 22,
   "metadata": {},
   "outputs": [
    {
     "data": {
      "text/plain": [
       "genres\n",
       "Foreign            0.201872\n",
       "TV Movie           0.273628\n",
       "Documentary        0.421015\n",
       "Music              1.174369\n",
       "Horror             1.218345\n",
       "Romance            1.248074\n",
       "History            1.300916\n",
       "Comedy             1.329658\n",
       "Drama              1.374860\n",
       "Crime              1.413851\n",
       "Mystery            1.531552\n",
       "Western            1.659973\n",
       "War                1.758336\n",
       "Family             1.766941\n",
       "Thriller           1.775742\n",
       "Animation          2.123440\n",
       "Action             2.142254\n",
       "Fantasy            2.194949\n",
       "Adventure          2.395293\n",
       "Science Fiction    2.779054\n",
       "Name: popularity, dtype: float64"
      ]
     },
     "execution_count": 22,
     "metadata": {},
     "output_type": "execute_result"
    }
   ],
   "source": [
    "# split genres string, at |, explode the list to rows\n",
    "genres_df = profit_data.assign(genres=profit_data['genres'].str.split('|')).explode('genres')\n",
    "genres_df.head(1)\n",
    "\n",
    "# group exploded dataframe by genres, get average popularity\n",
    "gen_pop = genres_df.groupby('genres').popularity.mean().sort_values(ascending=True)\n",
    "gen_pop"
   ]
  },
  {
   "cell_type": "code",
   "execution_count": 23,
   "metadata": {},
   "outputs": [
    {
     "data": {
      "image/png": "[encoded data removed]",
      "text/plain": [
       "<matplotlib.figure.Figure at 0x7faf8c9625f8>"
      ]
     },
     "metadata": {
      "needs_background": "light"
     },
     "output_type": "display_data"
    }
   ],
   "source": [
    "gen_pop.plot.barh(color=['green'], width=0.9, figsize=[14.70,8.27], rot=0)\n",
    "\n",
    "# add title/ labels\n",
    "plt.xlabel(\"Popularity\")\n",
    "plt.ylabel(\"Geners\")\n",
    "plt.title( \"Average Popularity by Geners\")\n",
    "plt.show()"
   ]
  },
  {
   "cell_type": "markdown",
   "metadata": {},
   "source": [
    "> **Science Fiction** is the highest popularity \n",
    ">\n",
    "> **Foreign** is the lowest popularity"
   ]
  },
  {
   "cell_type": "markdown",
   "metadata": {},
   "source": [
    "<a id='q3'></a>\n",
    "### The most profit decade by decade?"
   ]
  },
  {
   "cell_type": "code",
   "execution_count": 24,
   "metadata": {},
   "outputs": [
    {
     "data": {
      "image/png": "[encoded data removed]",
      "text/plain": [
       "<matplotlib.figure.Figure at 0x7faf8b393320>"
      ]
     },
     "metadata": {
      "needs_background": "light"
     },
     "output_type": "display_data"
    }
   ],
   "source": [
    "bar_plot('decade','profit', profit_data)"
   ]
  },
  {
   "cell_type": "markdown",
   "metadata": {},
   "source": [
    "> **60s** is the higest average profit\n",
    ">\n",
    "> **80s** is the lowest average profit"
   ]
  },
  {
   "cell_type": "markdown",
   "metadata": {},
   "source": [
    "<a id='q4'></a>\n",
    "### The most budjet decade by decade?"
   ]
  },
  {
   "cell_type": "code",
   "execution_count": 25,
   "metadata": {
    "scrolled": false
   },
   "outputs": [
    {
     "data": {
      "image/png": "[encoded data removed]",
      "text/plain": [
       "<matplotlib.figure.Figure at 0x7faf8c49c630>"
      ]
     },
     "metadata": {
      "needs_background": "light"
     },
     "output_type": "display_data"
    }
   ],
   "source": [
    "bar_plot('decade','budget_adj', profit_data)"
   ]
  },
  {
   "cell_type": "markdown",
   "metadata": {},
   "source": [
    "> **2010s** is the highest average budjet and so colse **2000s**\n",
    ">\n",
    "> **70s** is the lowest average budjet"
   ]
  },
  {
   "cell_type": "markdown",
   "metadata": {},
   "source": [
    "<a id='q5'></a>\n",
    "### The most revenue decade by decade?"
   ]
  },
  {
   "cell_type": "code",
   "execution_count": 26,
   "metadata": {},
   "outputs": [
    {
     "data": {
      "image/png": "[encoded data removed]",
      "text/plain": [
       "<matplotlib.figure.Figure at 0x7faf8c421b70>"
      ]
     },
     "metadata": {
      "needs_background": "light"
     },
     "output_type": "display_data"
    }
   ],
   "source": [
    "bar_plot('decade','revenue_adj', profit_data)"
   ]
  },
  {
   "cell_type": "markdown",
   "metadata": {},
   "source": [
    "> **60s** is the highest average revenue \n",
    ">\n",
    "> **80s** is the lowest average revenue "
   ]
  },
  {
   "cell_type": "markdown",
   "metadata": {},
   "source": [
    "<a id='q6'></a>\n",
    "### Shows the distribution of the budget by genres"
   ]
  },
  {
   "cell_type": "code",
   "execution_count": 27,
   "metadata": {},
   "outputs": [],
   "source": [
    "# Sort the data acording to the sample numbers, sellecting the top 5\n",
    "df_1 = profit_data.groupby(['genres'])[['id']].count().sort_values(by=['id'], ascending=False)[0:5]\n",
    "df_new = profit_data[profit_data['genres'].isin(df_1.index.values.tolist())]\n",
    "\n",
    "#remove budget equals zero \n",
    "df_new1 = df_new[df_new['budget_adj'] > 0]"
   ]
  },
  {
   "cell_type": "code",
   "execution_count": 28,
   "metadata": {},
   "outputs": [
    {
     "data": {
      "text/html": [
       "<div>\n",
       "<style scoped>\n",
       "    .dataframe tbody tr th:only-of-type {\n",
       "        vertical-align: middle;\n",
       "    }\n",
       "\n",
       "    .dataframe tbody tr th {\n",
       "        vertical-align: top;\n",
       "    }\n",
       "\n",
       "    .dataframe thead th {\n",
       "        text-align: right;\n",
       "    }\n",
       "</style>\n",
       "<table border=\"1\" class=\"dataframe\">\n",
       "  <thead>\n",
       "    <tr style=\"text-align: right;\">\n",
       "      <th></th>\n",
       "      <th>mean</th>\n",
       "      <th>std</th>\n",
       "    </tr>\n",
       "    <tr>\n",
       "      <th>genres</th>\n",
       "      <th></th>\n",
       "      <th></th>\n",
       "    </tr>\n",
       "  </thead>\n",
       "  <tbody>\n",
       "    <tr>\n",
       "      <th>Comedy</th>\n",
       "      <td>3.574864e+07</td>\n",
       "      <td>2.233338e+07</td>\n",
       "    </tr>\n",
       "    <tr>\n",
       "      <th>Comedy|Drama|Romance</th>\n",
       "      <td>3.533075e+07</td>\n",
       "      <td>2.714370e+07</td>\n",
       "    </tr>\n",
       "    <tr>\n",
       "      <th>Comedy|Romance</th>\n",
       "      <td>4.748812e+07</td>\n",
       "      <td>2.717509e+07</td>\n",
       "    </tr>\n",
       "    <tr>\n",
       "      <th>Drama</th>\n",
       "      <td>3.720994e+07</td>\n",
       "      <td>2.605793e+07</td>\n",
       "    </tr>\n",
       "    <tr>\n",
       "      <th>Drama|Romance</th>\n",
       "      <td>2.984139e+07</td>\n",
       "      <td>2.035990e+07</td>\n",
       "    </tr>\n",
       "  </tbody>\n",
       "</table>\n",
       "</div>"
      ],
      "text/plain": [
       "                              mean           std\n",
       "genres                                          \n",
       "Comedy                3.574864e+07  2.233338e+07\n",
       "Comedy|Drama|Romance  3.533075e+07  2.714370e+07\n",
       "Comedy|Romance        4.748812e+07  2.717509e+07\n",
       "Drama                 3.720994e+07  2.605793e+07\n",
       "Drama|Romance         2.984139e+07  2.035990e+07"
      ]
     },
     "execution_count": 28,
     "metadata": {},
     "output_type": "execute_result"
    }
   ],
   "source": [
    "pd.DataFrame(df_new1.groupby(['genres'])['budget_adj'].describe().loc[:,['mean', 'std']])"
   ]
  },
  {
   "cell_type": "code",
   "execution_count": 29,
   "metadata": {},
   "outputs": [
    {
     "data": {
      "image/png": "[encoded data removed]",
      "text/plain": [
       "<matplotlib.figure.Figure at 0x7faf8c387748>"
      ]
     },
     "metadata": {
      "needs_background": "light"
     },
     "output_type": "display_data"
    }
   ],
   "source": [
    "box_plot('genres', 'budget_adj', df_new1, True)"
   ]
  },
  {
   "cell_type": "markdown",
   "metadata": {},
   "source": [
    "> the largest range in the budget in **Comedy Movies**\n",
    ">\n",
    "> The smallest range in the budget in **Drama|Romance Movies** "
   ]
  },
  {
   "cell_type": "markdown",
   "metadata": {},
   "source": [
    "<a id='conclusions'></a>\n",
    "## Conclusions"
   ]
  },
  {
   "cell_type": "markdown",
   "metadata": {},
   "source": [
    "> This was a very interesting data analysis. We came out with some very interesting facts about movies\n",
    "> After this analysis we can conclude following:\n",
    "\n",
    "> **(2015) Movies** is the year with highest Profit and **(1966) Movies** is the year with highest Profit\n",
    ">\n",
    "> **Science Fiction Movies** is the highest popularity and\n",
    "> **Foreign Movies** is the lowest popularity\n",
    ">\n",
    "> **60s Movies** is the higest average profit\n",
    "and\n",
    "> **80s Movies** is the lowest average profit\n",
    ">\n",
    "> **2010s Movies** is the highest average budjet and so colse **2000s Movies**\n",
    "and\n",
    "> **70s Movies** is the lowest average budjet\n",
    ">\n",
    "> **60s Movies** is the highest average revenue \n",
    "and\n",
    "> **80s Movies** is the lowest average revenue \n",
    ">\n",
    "> the largest range in the budget in **Comedy Movies**\n",
    "and\n",
    "> The smallest range in the budget in **Drama|Romance Movies** \n",
    "\n",
    "\n",
    "> **Limitations:** This analysis was done considering the movies which had a significant amount of profit of around **40 million dollar**. This might not be completely error free but by following these suggestion one can increase the probability of a movie to become a hit. Moreover we are not sure if the data provided to us is completely correct and up-to-date.So a disparity arises here which can state the complete analysis wrong. Dropping the rows with missing values also affected the overall analysis."
   ]
  },
  {
   "cell_type": "code",
   "execution_count": 30,
   "metadata": {},
   "outputs": [],
   "source": [
    "# from subprocess import call\n",
    "# call(['python', '-m', 'nbconvert', 'Investigate_a_Dataset.ipynb'])"
   ]
  }
 ],
 "metadata": {
  "kernelspec": {
   "display_name": "Python 3",
   "language": "python",
   "name": "python3"
  },
  "language_info": {
   "codemirror_mode": {
    "name": "ipython",
    "version": 3
   },
   "file_extension": ".py",
   "mimetype": "text/x-python",
   "name": "python",
   "nbconvert_exporter": "python",
   "pygments_lexer": "ipython3",
   "version": "3.6.3"
  }
 },
 "nbformat": 4,
 "nbformat_minor": 2
}
